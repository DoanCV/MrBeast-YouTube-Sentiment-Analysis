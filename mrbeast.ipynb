{
  "nbformat": 4,
  "nbformat_minor": 0,
  "metadata": {
    "colab": {
      "name": "mrbeast.ipynb",
      "provenance": [],
      "authorship_tag": "ABX9TyNbF5FBuF/cP/gMzF2LwYEV"
    },
    "kernelspec": {
      "name": "python3",
      "display_name": "Python 3"
    }
  },
  "cells": [
    {
      "cell_type": "markdown",
      "metadata": {
        "id": "qeDRMlUk4S3e"
      },
      "source": [
        "# Exploring and Analyzing MrBeast YouTube Comments\r\n",
        "\r\n"
      ]
    },
    {
      "cell_type": "markdown",
      "metadata": {
        "id": "XJBvqnYM5Yys"
      },
      "source": [
        "YouTube is not only a popular social media platform but is also the second largest search engine. Consequently, promotional content is a main staple on YouTube, reaching a very large audience. Videos are accompanied by a comments section which allow viewers to engage with content creators or other fans. With this level of engagement, companies flock to larger channels to offer sponsorships to promote their products within a video in exchange for a variety of benefits.   \r\n",
        "\r\n",
        "Of the many YouTube content creators, MrBeast is known for his unique expenditures and charitable acts, a lot of which are sponsored by companies which provide the capital. I am interested in analyzing YouTube comments on the MrBeast channel since his content is not controversial and I am curious to see if the comments are overwhelmingly positive as rumored. I especially want to see which video comments section is the most positive and negative. This can explain popularity of videos apart from view or like counts. Similarly, I want to see the most defining words of the channel. MrBeast often films with his good friends so perhaps their names will be in this list.\r\n",
        "\r\n",
        "Moreover, to get the comments, I have to build and clean the dataset from scratch which is something I want to challenge myself to do. I can use this exposure to scraping so I can improve existing datasets or create new datasets that could address business problems. \r\n",
        "\r\n"
      ]
    },
    {
      "cell_type": "markdown",
      "metadata": {
        "id": "slx6dchX5Fjr"
      },
      "source": [
        "#### Import Libraries"
      ]
    },
    {
      "cell_type": "code",
      "metadata": {
        "colab": {
          "base_uri": "https://localhost:8080/"
        },
        "id": "vWkccy7n1hS9",
        "outputId": "06f9b21b-1e3d-47cf-c0af-e27009f73907"
      },
      "source": [
        "import pandas as pd\r\n",
        "import numpy as np\r\n",
        "import seaborn as sns\r\n",
        "import matplotlib.pyplot as plt\r\n",
        "\r\n",
        "!pip install emoji\r\n",
        "from emoji import UNICODE_EMOJI\r\n",
        "\r\n",
        "!pip install vaderSentiment\r\n",
        "from vaderSentiment.vaderSentiment import SentimentIntensityAnalyzer\r\n",
        "\r\n",
        "!pip install TextBlob\r\n",
        "from textblob import TextBlob\r\n",
        "from textblob import Word"
      ],
      "execution_count": null,
      "outputs": [
        {
          "output_type": "stream",
          "text": [
            "Collecting emoji\n",
            "\u001b[?25l  Downloading https://files.pythonhosted.org/packages/ff/1c/1f1457fe52d0b30cbeebfd578483cedb3e3619108d2d5a21380dfecf8ffd/emoji-0.6.0.tar.gz (51kB)\n",
            "\r\u001b[K     |██████▍                         | 10kB 15.0MB/s eta 0:00:01\r\u001b[K     |████████████▉                   | 20kB 10.7MB/s eta 0:00:01\r\u001b[K     |███████████████████▎            | 30kB 8.3MB/s eta 0:00:01\r\u001b[K     |█████████████████████████▊      | 40kB 7.2MB/s eta 0:00:01\r\u001b[K     |████████████████████████████████| 51kB 2.8MB/s \n",
            "\u001b[?25hBuilding wheels for collected packages: emoji\n",
            "  Building wheel for emoji (setup.py) ... \u001b[?25l\u001b[?25hdone\n",
            "  Created wheel for emoji: filename=emoji-0.6.0-cp36-none-any.whl size=49717 sha256=507392f70854b4005fbbcef6d4b81f64454c3609fea1fc978c350cabd550ce57\n",
            "  Stored in directory: /root/.cache/pip/wheels/46/2c/8b/9dcf5216ca68e14e0320e283692dce8ae321cdc01e73e17796\n",
            "Successfully built emoji\n",
            "Installing collected packages: emoji\n",
            "Successfully installed emoji-0.6.0\n",
            "Collecting vaderSentiment\n",
            "\u001b[?25l  Downloading https://files.pythonhosted.org/packages/76/fc/310e16254683c1ed35eeb97386986d6c00bc29df17ce280aed64d55537e9/vaderSentiment-3.3.2-py2.py3-none-any.whl (125kB)\n",
            "\u001b[K     |████████████████████████████████| 133kB 4.2MB/s \n",
            "\u001b[?25hRequirement already satisfied: requests in /usr/local/lib/python3.6/dist-packages (from vaderSentiment) (2.23.0)\n",
            "Requirement already satisfied: chardet<4,>=3.0.2 in /usr/local/lib/python3.6/dist-packages (from requests->vaderSentiment) (3.0.4)\n",
            "Requirement already satisfied: urllib3!=1.25.0,!=1.25.1,<1.26,>=1.21.1 in /usr/local/lib/python3.6/dist-packages (from requests->vaderSentiment) (1.24.3)\n",
            "Requirement already satisfied: certifi>=2017.4.17 in /usr/local/lib/python3.6/dist-packages (from requests->vaderSentiment) (2020.12.5)\n",
            "Requirement already satisfied: idna<3,>=2.5 in /usr/local/lib/python3.6/dist-packages (from requests->vaderSentiment) (2.10)\n",
            "Installing collected packages: vaderSentiment\n",
            "Successfully installed vaderSentiment-3.3.2\n",
            "Requirement already satisfied: TextBlob in /usr/local/lib/python3.6/dist-packages (0.15.3)\n",
            "Requirement already satisfied: nltk>=3.1 in /usr/local/lib/python3.6/dist-packages (from TextBlob) (3.2.5)\n",
            "Requirement already satisfied: six in /usr/local/lib/python3.6/dist-packages (from nltk>=3.1->TextBlob) (1.15.0)\n"
          ],
          "name": "stdout"
        }
      ]
    },
    {
      "cell_type": "code",
      "metadata": {
        "id": "d9q5C2JN6RWe",
        "colab": {
          "base_uri": "https://localhost:8080/",
          "height": 585
        },
        "outputId": "af4ff6a3-9faa-4352-c829-29efb3042036"
      },
      "source": [
        "file_mrbeast = 'MrBeast_comments.csv'\r\n",
        "df = pd.read_csv(file_mrbeast)\r\n",
        "df.head()"
      ],
      "execution_count": null,
      "outputs": [
        {
          "output_type": "execute_result",
          "data": {
            "text/html": [
              "<div>\n",
              "<style scoped>\n",
              "    .dataframe tbody tr th:only-of-type {\n",
              "        vertical-align: middle;\n",
              "    }\n",
              "\n",
              "    .dataframe tbody tr th {\n",
              "        vertical-align: top;\n",
              "    }\n",
              "\n",
              "    .dataframe thead th {\n",
              "        text-align: right;\n",
              "    }\n",
              "</style>\n",
              "<table border=\"1\" class=\"dataframe\">\n",
              "  <thead>\n",
              "    <tr style=\"text-align: right;\">\n",
              "      <th></th>\n",
              "      <th>Unnamed: 0</th>\n",
              "      <th>comment</th>\n",
              "      <th>comment_id</th>\n",
              "      <th>author_url</th>\n",
              "      <th>author_name</th>\n",
              "      <th>reply_count</th>\n",
              "      <th>like_count</th>\n",
              "      <th>date</th>\n",
              "      <th>vidid</th>\n",
              "      <th>total_reply_counts</th>\n",
              "      <th>vid_title</th>\n",
              "      <th>just_date</th>\n",
              "    </tr>\n",
              "  </thead>\n",
              "  <tbody>\n",
              "    <tr>\n",
              "      <th>0</th>\n",
              "      <td>0</td>\n",
              "      <td>\"I'm sorry, international fans\"\\n\\n*Cries in P...</td>\n",
              "      <td>UgxTQx4UK1GxX8csGQN4AaABAg</td>\n",
              "      <td>http://www.youtube.com/channel/UCRvvUJye_0IPDE...</td>\n",
              "      <td>Allona Shanley Magpantay</td>\n",
              "      <td>0</td>\n",
              "      <td>0</td>\n",
              "      <td>2021-01-13 16:59:52+00:00</td>\n",
              "      <td>dg2Ag3e8W-Q</td>\n",
              "      <td>0</td>\n",
              "      <td>I Opened A Restaurant That Pays You To Eat At It</td>\n",
              "      <td>2021-01-13</td>\n",
              "    </tr>\n",
              "    <tr>\n",
              "      <th>1</th>\n",
              "      <td>1</td>\n",
              "      <td>Relatable</td>\n",
              "      <td>UgxU3cNgqkyGMDAuXxJ4AaABAg</td>\n",
              "      <td>http://www.youtube.com/channel/UC8FTumc39Z00Vn...</td>\n",
              "      <td>Sagar Gwal</td>\n",
              "      <td>0</td>\n",
              "      <td>0</td>\n",
              "      <td>2021-01-13 16:59:46+00:00</td>\n",
              "      <td>LeYsRMZFUq0</td>\n",
              "      <td>0</td>\n",
              "      <td>I Gave People $1,000,000 But ONLY 1 Minute To ...</td>\n",
              "      <td>2021-01-13</td>\n",
              "    </tr>\n",
              "    <tr>\n",
              "      <th>2</th>\n",
              "      <td>2</td>\n",
              "      <td>How do you Gus love that crap</td>\n",
              "      <td>UgyUaDvKrt8ioZ7QTbh4AaABAg</td>\n",
              "      <td>http://www.youtube.com/channel/UCnF6pvaO6iYSnY...</td>\n",
              "      <td>Noah Rodriguez</td>\n",
              "      <td>0</td>\n",
              "      <td>0</td>\n",
              "      <td>2021-01-13 16:59:43+00:00</td>\n",
              "      <td>A-vX1AGBGsc</td>\n",
              "      <td>0</td>\n",
              "      <td>I Went Back To 1st Grade For A Day</td>\n",
              "      <td>2021-01-13</td>\n",
              "    </tr>\n",
              "    <tr>\n",
              "      <th>3</th>\n",
              "      <td>3</td>\n",
              "      <td>I wouldn’t be surprised if MrBeast became one ...</td>\n",
              "      <td>UgwBA9pqqOVRBKXl17B4AaABAg</td>\n",
              "      <td>http://www.youtube.com/channel/UCOQ-Z0f0gWPtGQ...</td>\n",
              "      <td>TheFlaaa</td>\n",
              "      <td>0</td>\n",
              "      <td>0</td>\n",
              "      <td>2021-01-13 16:59:43+00:00</td>\n",
              "      <td>5Fg9oZk-5uA</td>\n",
              "      <td>0</td>\n",
              "      <td>I Bought Everything In 5 Stores</td>\n",
              "      <td>2021-01-13</td>\n",
              "    </tr>\n",
              "    <tr>\n",
              "      <th>4</th>\n",
              "      <td>4</td>\n",
              "      <td>Chandler:eats a rose</td>\n",
              "      <td>UgxhD7F8V6WUiYXvA5F4AaABAg</td>\n",
              "      <td>http://www.youtube.com/channel/UCZocmKEhNiRotw...</td>\n",
              "      <td>Emilija Mikuckyte</td>\n",
              "      <td>0</td>\n",
              "      <td>0</td>\n",
              "      <td>2021-01-13 16:59:43+00:00</td>\n",
              "      <td>i6OUv48w1bk</td>\n",
              "      <td>0</td>\n",
              "      <td>Surprising My Girlfriend With 100,000 Roses Fo...</td>\n",
              "      <td>2021-01-13</td>\n",
              "    </tr>\n",
              "  </tbody>\n",
              "</table>\n",
              "</div>"
            ],
            "text/plain": [
              "   Unnamed: 0  ...   just_date\n",
              "0           0  ...  2021-01-13\n",
              "1           1  ...  2021-01-13\n",
              "2           2  ...  2021-01-13\n",
              "3           3  ...  2021-01-13\n",
              "4           4  ...  2021-01-13\n",
              "\n",
              "[5 rows x 12 columns]"
            ]
          },
          "metadata": {
            "tags": []
          },
          "execution_count": 3
        }
      ]
    },
    {
      "cell_type": "code",
      "metadata": {
        "id": "dya5Fyqk1-gJ",
        "colab": {
          "base_uri": "https://localhost:8080/",
          "height": 585
        },
        "outputId": "35551712-7d23-4d55-8262-8d0c66d59a56"
      },
      "source": [
        "# Remove comments by the author of the video i.e. MrBeast\r\n",
        "comments = df.query('author_name != \"MrBeast\"')\r\n",
        "comments.head()"
      ],
      "execution_count": null,
      "outputs": [
        {
          "output_type": "execute_result",
          "data": {
            "text/html": [
              "<div>\n",
              "<style scoped>\n",
              "    .dataframe tbody tr th:only-of-type {\n",
              "        vertical-align: middle;\n",
              "    }\n",
              "\n",
              "    .dataframe tbody tr th {\n",
              "        vertical-align: top;\n",
              "    }\n",
              "\n",
              "    .dataframe thead th {\n",
              "        text-align: right;\n",
              "    }\n",
              "</style>\n",
              "<table border=\"1\" class=\"dataframe\">\n",
              "  <thead>\n",
              "    <tr style=\"text-align: right;\">\n",
              "      <th></th>\n",
              "      <th>Unnamed: 0</th>\n",
              "      <th>comment</th>\n",
              "      <th>comment_id</th>\n",
              "      <th>author_url</th>\n",
              "      <th>author_name</th>\n",
              "      <th>reply_count</th>\n",
              "      <th>like_count</th>\n",
              "      <th>date</th>\n",
              "      <th>vidid</th>\n",
              "      <th>total_reply_counts</th>\n",
              "      <th>vid_title</th>\n",
              "      <th>just_date</th>\n",
              "    </tr>\n",
              "  </thead>\n",
              "  <tbody>\n",
              "    <tr>\n",
              "      <th>0</th>\n",
              "      <td>0</td>\n",
              "      <td>\"I'm sorry, international fans\"\\n\\n*Cries in P...</td>\n",
              "      <td>UgxTQx4UK1GxX8csGQN4AaABAg</td>\n",
              "      <td>http://www.youtube.com/channel/UCRvvUJye_0IPDE...</td>\n",
              "      <td>Allona Shanley Magpantay</td>\n",
              "      <td>0</td>\n",
              "      <td>0</td>\n",
              "      <td>2021-01-13 16:59:52+00:00</td>\n",
              "      <td>dg2Ag3e8W-Q</td>\n",
              "      <td>0</td>\n",
              "      <td>I Opened A Restaurant That Pays You To Eat At It</td>\n",
              "      <td>2021-01-13</td>\n",
              "    </tr>\n",
              "    <tr>\n",
              "      <th>1</th>\n",
              "      <td>1</td>\n",
              "      <td>Relatable</td>\n",
              "      <td>UgxU3cNgqkyGMDAuXxJ4AaABAg</td>\n",
              "      <td>http://www.youtube.com/channel/UC8FTumc39Z00Vn...</td>\n",
              "      <td>Sagar Gwal</td>\n",
              "      <td>0</td>\n",
              "      <td>0</td>\n",
              "      <td>2021-01-13 16:59:46+00:00</td>\n",
              "      <td>LeYsRMZFUq0</td>\n",
              "      <td>0</td>\n",
              "      <td>I Gave People $1,000,000 But ONLY 1 Minute To ...</td>\n",
              "      <td>2021-01-13</td>\n",
              "    </tr>\n",
              "    <tr>\n",
              "      <th>2</th>\n",
              "      <td>2</td>\n",
              "      <td>How do you Gus love that crap</td>\n",
              "      <td>UgyUaDvKrt8ioZ7QTbh4AaABAg</td>\n",
              "      <td>http://www.youtube.com/channel/UCnF6pvaO6iYSnY...</td>\n",
              "      <td>Noah Rodriguez</td>\n",
              "      <td>0</td>\n",
              "      <td>0</td>\n",
              "      <td>2021-01-13 16:59:43+00:00</td>\n",
              "      <td>A-vX1AGBGsc</td>\n",
              "      <td>0</td>\n",
              "      <td>I Went Back To 1st Grade For A Day</td>\n",
              "      <td>2021-01-13</td>\n",
              "    </tr>\n",
              "    <tr>\n",
              "      <th>3</th>\n",
              "      <td>3</td>\n",
              "      <td>I wouldn’t be surprised if MrBeast became one ...</td>\n",
              "      <td>UgwBA9pqqOVRBKXl17B4AaABAg</td>\n",
              "      <td>http://www.youtube.com/channel/UCOQ-Z0f0gWPtGQ...</td>\n",
              "      <td>TheFlaaa</td>\n",
              "      <td>0</td>\n",
              "      <td>0</td>\n",
              "      <td>2021-01-13 16:59:43+00:00</td>\n",
              "      <td>5Fg9oZk-5uA</td>\n",
              "      <td>0</td>\n",
              "      <td>I Bought Everything In 5 Stores</td>\n",
              "      <td>2021-01-13</td>\n",
              "    </tr>\n",
              "    <tr>\n",
              "      <th>4</th>\n",
              "      <td>4</td>\n",
              "      <td>Chandler:eats a rose</td>\n",
              "      <td>UgxhD7F8V6WUiYXvA5F4AaABAg</td>\n",
              "      <td>http://www.youtube.com/channel/UCZocmKEhNiRotw...</td>\n",
              "      <td>Emilija Mikuckyte</td>\n",
              "      <td>0</td>\n",
              "      <td>0</td>\n",
              "      <td>2021-01-13 16:59:43+00:00</td>\n",
              "      <td>i6OUv48w1bk</td>\n",
              "      <td>0</td>\n",
              "      <td>Surprising My Girlfriend With 100,000 Roses Fo...</td>\n",
              "      <td>2021-01-13</td>\n",
              "    </tr>\n",
              "  </tbody>\n",
              "</table>\n",
              "</div>"
            ],
            "text/plain": [
              "   Unnamed: 0  ...   just_date\n",
              "0           0  ...  2021-01-13\n",
              "1           1  ...  2021-01-13\n",
              "2           2  ...  2021-01-13\n",
              "3           3  ...  2021-01-13\n",
              "4           4  ...  2021-01-13\n",
              "\n",
              "[5 rows x 12 columns]"
            ]
          },
          "metadata": {
            "tags": []
          },
          "execution_count": 4
        }
      ]
    },
    {
      "cell_type": "code",
      "metadata": {
        "id": "k3DqFKts_y6K"
      },
      "source": [
        "def removeNewline(comment):\r\n",
        "  return comment.str.replace(\"\\n\", \" \")"
      ],
      "execution_count": null,
      "outputs": []
    },
    {
      "cell_type": "code",
      "metadata": {
        "id": "2CRuL1f83dQZ"
      },
      "source": [
        "comments['comment'] = removeNewline(comments['comment'])"
      ],
      "execution_count": null,
      "outputs": []
    },
    {
      "cell_type": "code",
      "metadata": {
        "colab": {
          "base_uri": "https://localhost:8080/",
          "height": 602
        },
        "id": "dndbZ_A_3znO",
        "outputId": "4b093523-d78a-4afa-873c-a736434bc176"
      },
      "source": [
        "comments.head()"
      ],
      "execution_count": null,
      "outputs": [
        {
          "output_type": "execute_result",
          "data": {
            "text/html": [
              "<div>\n",
              "<style scoped>\n",
              "    .dataframe tbody tr th:only-of-type {\n",
              "        vertical-align: middle;\n",
              "    }\n",
              "\n",
              "    .dataframe tbody tr th {\n",
              "        vertical-align: top;\n",
              "    }\n",
              "\n",
              "    .dataframe thead th {\n",
              "        text-align: right;\n",
              "    }\n",
              "</style>\n",
              "<table border=\"1\" class=\"dataframe\">\n",
              "  <thead>\n",
              "    <tr style=\"text-align: right;\">\n",
              "      <th></th>\n",
              "      <th>Unnamed: 0</th>\n",
              "      <th>comment</th>\n",
              "      <th>comment_id</th>\n",
              "      <th>author_url</th>\n",
              "      <th>author_name</th>\n",
              "      <th>reply_count</th>\n",
              "      <th>like_count</th>\n",
              "      <th>date</th>\n",
              "      <th>vidid</th>\n",
              "      <th>total_reply_counts</th>\n",
              "      <th>vid_title</th>\n",
              "      <th>just_date</th>\n",
              "    </tr>\n",
              "  </thead>\n",
              "  <tbody>\n",
              "    <tr>\n",
              "      <th>0</th>\n",
              "      <td>0</td>\n",
              "      <td>\"I'm sorry, international fans\"  *Cries in Phi...</td>\n",
              "      <td>UgxTQx4UK1GxX8csGQN4AaABAg</td>\n",
              "      <td>http://www.youtube.com/channel/UCRvvUJye_0IPDE...</td>\n",
              "      <td>Allona Shanley Magpantay</td>\n",
              "      <td>0</td>\n",
              "      <td>0</td>\n",
              "      <td>2021-01-13 16:59:52+00:00</td>\n",
              "      <td>dg2Ag3e8W-Q</td>\n",
              "      <td>0</td>\n",
              "      <td>I Opened A Restaurant That Pays You To Eat At It</td>\n",
              "      <td>2021-01-13</td>\n",
              "    </tr>\n",
              "    <tr>\n",
              "      <th>1</th>\n",
              "      <td>1</td>\n",
              "      <td>Relatable</td>\n",
              "      <td>UgxU3cNgqkyGMDAuXxJ4AaABAg</td>\n",
              "      <td>http://www.youtube.com/channel/UC8FTumc39Z00Vn...</td>\n",
              "      <td>Sagar Gwal</td>\n",
              "      <td>0</td>\n",
              "      <td>0</td>\n",
              "      <td>2021-01-13 16:59:46+00:00</td>\n",
              "      <td>LeYsRMZFUq0</td>\n",
              "      <td>0</td>\n",
              "      <td>I Gave People $1,000,000 But ONLY 1 Minute To ...</td>\n",
              "      <td>2021-01-13</td>\n",
              "    </tr>\n",
              "    <tr>\n",
              "      <th>2</th>\n",
              "      <td>2</td>\n",
              "      <td>How do you Gus love that crap</td>\n",
              "      <td>UgyUaDvKrt8ioZ7QTbh4AaABAg</td>\n",
              "      <td>http://www.youtube.com/channel/UCnF6pvaO6iYSnY...</td>\n",
              "      <td>Noah Rodriguez</td>\n",
              "      <td>0</td>\n",
              "      <td>0</td>\n",
              "      <td>2021-01-13 16:59:43+00:00</td>\n",
              "      <td>A-vX1AGBGsc</td>\n",
              "      <td>0</td>\n",
              "      <td>I Went Back To 1st Grade For A Day</td>\n",
              "      <td>2021-01-13</td>\n",
              "    </tr>\n",
              "    <tr>\n",
              "      <th>3</th>\n",
              "      <td>3</td>\n",
              "      <td>I wouldn’t be surprised if MrBeast became one ...</td>\n",
              "      <td>UgwBA9pqqOVRBKXl17B4AaABAg</td>\n",
              "      <td>http://www.youtube.com/channel/UCOQ-Z0f0gWPtGQ...</td>\n",
              "      <td>TheFlaaa</td>\n",
              "      <td>0</td>\n",
              "      <td>0</td>\n",
              "      <td>2021-01-13 16:59:43+00:00</td>\n",
              "      <td>5Fg9oZk-5uA</td>\n",
              "      <td>0</td>\n",
              "      <td>I Bought Everything In 5 Stores</td>\n",
              "      <td>2021-01-13</td>\n",
              "    </tr>\n",
              "    <tr>\n",
              "      <th>4</th>\n",
              "      <td>4</td>\n",
              "      <td>Chandler:eats a rose</td>\n",
              "      <td>UgxhD7F8V6WUiYXvA5F4AaABAg</td>\n",
              "      <td>http://www.youtube.com/channel/UCZocmKEhNiRotw...</td>\n",
              "      <td>Emilija Mikuckyte</td>\n",
              "      <td>0</td>\n",
              "      <td>0</td>\n",
              "      <td>2021-01-13 16:59:43+00:00</td>\n",
              "      <td>i6OUv48w1bk</td>\n",
              "      <td>0</td>\n",
              "      <td>Surprising My Girlfriend With 100,000 Roses Fo...</td>\n",
              "      <td>2021-01-13</td>\n",
              "    </tr>\n",
              "  </tbody>\n",
              "</table>\n",
              "</div>"
            ],
            "text/plain": [
              "   Unnamed: 0  ...   just_date\n",
              "0           0  ...  2021-01-13\n",
              "1           1  ...  2021-01-13\n",
              "2           2  ...  2021-01-13\n",
              "3           3  ...  2021-01-13\n",
              "4           4  ...  2021-01-13\n",
              "\n",
              "[5 rows x 12 columns]"
            ]
          },
          "metadata": {
            "tags": []
          },
          "execution_count": 7
        }
      ]
    },
    {
      "cell_type": "markdown",
      "metadata": {
        "id": "3oNs39ng4OV3"
      },
      "source": [
        "#### Vader Sentiments"
      ]
    },
    {
      "cell_type": "markdown",
      "metadata": {
        "id": "VD6xa5N_JCP1"
      },
      "source": [
        "VADER (Valence Aware Dictionary for Sentiment Reasoning) is a model that is sensitive to both polarity and intensity of emotion. It relies on a dictionary that maps lexical feactures to emotion intensities as sentiment scores. The sum of the intensities of each word in text is the sentiment score. Here, I am using polarity classification since I only care if the text expresses a positive or negative opinion but not the degree of how positive or negative the text is. VADER can also tell something like \"did not love\" as negative when compared to just \"love.\""
      ]
    },
    {
      "cell_type": "code",
      "metadata": {
        "id": "y4DwnIAu4AkN"
      },
      "source": [
        "sentiment = SentimentIntensityAnalyzer()\r\n",
        "sentiment.polarity_scores(comments.comment[0])\r\n",
        "comments['vader_sentiment'] = comments.comment.apply(lambda x: sentiment.polarity_scores(x))\r\n",
        "comments['vader_neg_sentiment'] = comments.vader_sentiment.apply(lambda x: x['neg'])\r\n",
        "comments['vader_pos_sentiment'] = comments.vader_sentiment.apply(lambda x: x['pos'])\r\n",
        "comments['vader_neu_sentiment'] = comments.vader_sentiment.apply(lambda x: x['neu'])\r\n",
        "comments['vader_comp_sentiment'] = comments.vader_sentiment.apply(lambda x: x['compound'])"
      ],
      "execution_count": null,
      "outputs": []
    },
    {
      "cell_type": "markdown",
      "metadata": {
        "id": "h3qRfs4bI1p0"
      },
      "source": [
        "Positive sentiment"
      ]
    },
    {
      "cell_type": "code",
      "metadata": {
        "colab": {
          "base_uri": "https://localhost:8080/",
          "height": 229
        },
        "id": "mkW-8SU7IFI1",
        "outputId": "9ce6b84b-cfdd-4fa7-b933-373f3fb4ca4f"
      },
      "source": [
        "comments.sort_values(by=['vader_comp_sentiment'], ascending=False)[['comment']].head()"
      ],
      "execution_count": null,
      "outputs": [
        {
          "output_type": "execute_result",
          "data": {
            "text/html": [
              "<div>\n",
              "<style scoped>\n",
              "    .dataframe tbody tr th:only-of-type {\n",
              "        vertical-align: middle;\n",
              "    }\n",
              "\n",
              "    .dataframe tbody tr th {\n",
              "        vertical-align: top;\n",
              "    }\n",
              "\n",
              "    .dataframe thead th {\n",
              "        text-align: right;\n",
              "    }\n",
              "</style>\n",
              "<table border=\"1\" class=\"dataframe\">\n",
              "  <thead>\n",
              "    <tr style=\"text-align: right;\">\n",
              "      <th></th>\n",
              "      <th>comment</th>\n",
              "    </tr>\n",
              "  </thead>\n",
              "  <tbody>\n",
              "    <tr>\n",
              "      <th>5567</th>\n",
              "      <td>This made my day 😊😊😊😊😊😊😊😊😊☺️☺️☺️😊😊😊😊😊😊😊😊😊😊😊😊😊😊...</td>\n",
              "    </tr>\n",
              "    <tr>\n",
              "      <th>1325</th>\n",
              "      <td>When the guy go to the table and he jumped and...</td>\n",
              "    </tr>\n",
              "    <tr>\n",
              "      <th>4082</th>\n",
              "      <td>❤️❤️❤️😍😍😍😍😍😍😍😍😍😍😍😍😍😍😍😍😍😍😍😍😍😍😍😍😍😍❤️❤️❤️❤️❤️❤️❤️...</td>\n",
              "    </tr>\n",
              "    <tr>\n",
              "      <th>6797</th>\n",
              "      <td>Im from Philippines i hipe mr beast visit me h...</td>\n",
              "    </tr>\n",
              "    <tr>\n",
              "      <th>6555</th>\n",
              "      <td>😂😂😂😂😂😂😂😂😂😂😂😂😂😂😂😂😂😂😂😔😂😂😂😂😂</td>\n",
              "    </tr>\n",
              "  </tbody>\n",
              "</table>\n",
              "</div>"
            ],
            "text/plain": [
              "                                                comment\n",
              "5567  This made my day 😊😊😊😊😊😊😊😊😊☺️☺️☺️😊😊😊😊😊😊😊😊😊😊😊😊😊😊...\n",
              "1325  When the guy go to the table and he jumped and...\n",
              "4082  ❤️❤️❤️😍😍😍😍😍😍😍😍😍😍😍😍😍😍😍😍😍😍😍😍😍😍😍😍😍😍❤️❤️❤️❤️❤️❤️❤️...\n",
              "6797  Im from Philippines i hipe mr beast visit me h...\n",
              "6555                          😂😂😂😂😂😂😂😂😂😂😂😂😂😂😂😂😂😂😂😔😂😂😂😂😂"
            ]
          },
          "metadata": {
            "tags": []
          },
          "execution_count": 9
        }
      ]
    },
    {
      "cell_type": "markdown",
      "metadata": {
        "id": "wNjIog78Ph57"
      },
      "source": [
        "Neutral sentiment"
      ]
    },
    {
      "cell_type": "code",
      "metadata": {
        "colab": {
          "base_uri": "https://localhost:8080/",
          "height": 402
        },
        "id": "Ve7VLtUZPZxd",
        "outputId": "48074665-6bb1-400a-80ee-1087c2740257"
      },
      "source": [
        "vader_neutral = comments.query('vader_comp_sentiment == 0').rename(columns={\"comment\": \"vader_comment\"})[['vader_comment']].reset_index(drop=True)\r\n",
        "vader_neutral"
      ],
      "execution_count": null,
      "outputs": [
        {
          "output_type": "execute_result",
          "data": {
            "text/html": [
              "<div>\n",
              "<style scoped>\n",
              "    .dataframe tbody tr th:only-of-type {\n",
              "        vertical-align: middle;\n",
              "    }\n",
              "\n",
              "    .dataframe tbody tr th {\n",
              "        vertical-align: top;\n",
              "    }\n",
              "\n",
              "    .dataframe thead th {\n",
              "        text-align: right;\n",
              "    }\n",
              "</style>\n",
              "<table border=\"1\" class=\"dataframe\">\n",
              "  <thead>\n",
              "    <tr style=\"text-align: right;\">\n",
              "      <th></th>\n",
              "      <th>vader_comment</th>\n",
              "    </tr>\n",
              "  </thead>\n",
              "  <tbody>\n",
              "    <tr>\n",
              "      <th>0</th>\n",
              "      <td>Relatable</td>\n",
              "    </tr>\n",
              "    <tr>\n",
              "      <th>1</th>\n",
              "      <td>Chandler:eats a rose</td>\n",
              "    </tr>\n",
              "    <tr>\n",
              "      <th>2</th>\n",
              "      <td>I SAW MR.BEAST GET TO 51 MILLION!</td>\n",
              "    </tr>\n",
              "    <tr>\n",
              "      <th>3</th>\n",
              "      <td>Buy a franchise</td>\n",
              "    </tr>\n",
              "    <tr>\n",
              "      <th>4</th>\n",
              "      <td>Iv heard people say you shouldnt donate to sal...</td>\n",
              "    </tr>\n",
              "    <tr>\n",
              "      <th>...</th>\n",
              "      <td>...</td>\n",
              "    </tr>\n",
              "    <tr>\n",
              "      <th>5279</th>\n",
              "      <td>Is it just me who was watching the football in...</td>\n",
              "    </tr>\n",
              "    <tr>\n",
              "      <th>5280</th>\n",
              "      <td>How do you have so much money</td>\n",
              "    </tr>\n",
              "    <tr>\n",
              "      <th>5281</th>\n",
              "      <td>Elise Stefanik</td>\n",
              "    </tr>\n",
              "    <tr>\n",
              "      <th>5282</th>\n",
              "      <td>Ryan did the spoon flip</td>\n",
              "    </tr>\n",
              "    <tr>\n",
              "      <th>5283</th>\n",
              "      <td>Chan Chan's Dog</td>\n",
              "    </tr>\n",
              "  </tbody>\n",
              "</table>\n",
              "<p>5284 rows × 1 columns</p>\n",
              "</div>"
            ],
            "text/plain": [
              "                                          vader_comment\n",
              "0                                             Relatable\n",
              "1                                  Chandler:eats a rose\n",
              "2                     I SAW MR.BEAST GET TO 51 MILLION!\n",
              "3                                       Buy a franchise\n",
              "4     Iv heard people say you shouldnt donate to sal...\n",
              "...                                                 ...\n",
              "5279  Is it just me who was watching the football in...\n",
              "5280                      How do you have so much money\n",
              "5281                                     Elise Stefanik\n",
              "5282                            Ryan did the spoon flip\n",
              "5283                                    Chan Chan's Dog\n",
              "\n",
              "[5284 rows x 1 columns]"
            ]
          },
          "metadata": {
            "tags": []
          },
          "execution_count": 10
        }
      ]
    },
    {
      "cell_type": "markdown",
      "metadata": {
        "id": "i3-1MKDEI5O9"
      },
      "source": [
        "Negative sentiment"
      ]
    },
    {
      "cell_type": "code",
      "metadata": {
        "colab": {
          "base_uri": "https://localhost:8080/",
          "height": 195
        },
        "id": "z7MT-sarIC-W",
        "outputId": "19d435f2-8ed8-4658-eeb0-6aa028cedbf3"
      },
      "source": [
        "comments.sort_values(by=['vader_comp_sentiment'], ascending=True)[['comment']].head()"
      ],
      "execution_count": null,
      "outputs": [
        {
          "output_type": "execute_result",
          "data": {
            "text/html": [
              "<div>\n",
              "<style scoped>\n",
              "    .dataframe tbody tr th:only-of-type {\n",
              "        vertical-align: middle;\n",
              "    }\n",
              "\n",
              "    .dataframe tbody tr th {\n",
              "        vertical-align: top;\n",
              "    }\n",
              "\n",
              "    .dataframe thead th {\n",
              "        text-align: right;\n",
              "    }\n",
              "</style>\n",
              "<table border=\"1\" class=\"dataframe\">\n",
              "  <thead>\n",
              "    <tr style=\"text-align: right;\">\n",
              "      <th></th>\n",
              "      <th>comment</th>\n",
              "    </tr>\n",
              "  </thead>\n",
              "  <tbody>\n",
              "    <tr>\n",
              "      <th>8743</th>\n",
              "      <td>😥😥😥😥😥😥😢😢😢😢😢😢😢😢😢😢😢😱😱😱</td>\n",
              "    </tr>\n",
              "    <tr>\n",
              "      <th>3022</th>\n",
              "      <td>PEWDIEDIE AAAAAAAAH 💥💥💥💥💥💥💥💥💥💥💥💥💥💥💥💥💥💥💥💥!!!!!!...</td>\n",
              "    </tr>\n",
              "    <tr>\n",
              "      <th>8511</th>\n",
              "      <td>So sad for chandler 😭😭😭😭😭😭😭😭</td>\n",
              "    </tr>\n",
              "    <tr>\n",
              "      <th>5617</th>\n",
              "      <td>My reaction: *H* 😄😥😫😓🤤😝😤😞😖😲🤑😵🥴🤯😨😭😱🥺     *Fricc...</td>\n",
              "    </tr>\n",
              "    <tr>\n",
              "      <th>2493</th>\n",
              "      <td>I feel so bad for chandler 😢😢😢😢😢😢</td>\n",
              "    </tr>\n",
              "  </tbody>\n",
              "</table>\n",
              "</div>"
            ],
            "text/plain": [
              "                                                comment\n",
              "8743                               😥😥😥😥😥😥😢😢😢😢😢😢😢😢😢😢😢😱😱😱\n",
              "3022  PEWDIEDIE AAAAAAAAH 💥💥💥💥💥💥💥💥💥💥💥💥💥💥💥💥💥💥💥💥!!!!!!...\n",
              "8511                       So sad for chandler 😭😭😭😭😭😭😭😭\n",
              "5617  My reaction: *H* 😄😥😫😓🤤😝😤😞😖😲🤑😵🥴🤯😨😭😱🥺     *Fricc...\n",
              "2493                  I feel so bad for chandler 😢😢😢😢😢😢"
            ]
          },
          "metadata": {
            "tags": []
          },
          "execution_count": 11
        }
      ]
    },
    {
      "cell_type": "markdown",
      "metadata": {
        "id": "OImVQ2ioI0da"
      },
      "source": [
        "This is more like pity... Let's try something else."
      ]
    },
    {
      "cell_type": "markdown",
      "metadata": {
        "id": "YKMq5YM054sr"
      },
      "source": [
        "#### Textblob Sentiments"
      ]
    },
    {
      "cell_type": "markdown",
      "metadata": {
        "id": "pu6YpKb0N9_t"
      },
      "source": [
        "Calculates the sentiment polarity as a float that lies in the range [-1,1], where 1 is positive sentiment and -1 is negative sentiment. Textblob disregards words that it does not have any aquaintance with. Instead, it will consider words and expressions that it can determine extremity."
      ]
    },
    {
      "cell_type": "code",
      "metadata": {
        "id": "Tmlywx3557RN"
      },
      "source": [
        "comments['textblob_polarity'] = comments['comment'].map(lambda text: TextBlob(text).sentiment.polarity)\r\n",
        "comments['comment_len'] = comments['comment'].astype(str).apply(len)\r\n",
        "comments['word_count'] = comments['comment'].apply(lambda x: len(str(x).split()))"
      ],
      "execution_count": null,
      "outputs": []
    },
    {
      "cell_type": "markdown",
      "metadata": {
        "id": "OxF3L4qxPtTh"
      },
      "source": [
        "Positive sentiment"
      ]
    },
    {
      "cell_type": "code",
      "metadata": {
        "colab": {
          "base_uri": "https://localhost:8080/",
          "height": 195
        },
        "id": "8NTlQ4JvN9vL",
        "outputId": "9ed01b2f-c710-4fe7-d996-a90abe7977f9"
      },
      "source": [
        "comments.sort_values(by=['textblob_polarity'], ascending=False)[['comment', 'textblob_polarity']].head()"
      ],
      "execution_count": null,
      "outputs": [
        {
          "output_type": "execute_result",
          "data": {
            "text/html": [
              "<div>\n",
              "<style scoped>\n",
              "    .dataframe tbody tr th:only-of-type {\n",
              "        vertical-align: middle;\n",
              "    }\n",
              "\n",
              "    .dataframe tbody tr th {\n",
              "        vertical-align: top;\n",
              "    }\n",
              "\n",
              "    .dataframe thead th {\n",
              "        text-align: right;\n",
              "    }\n",
              "</style>\n",
              "<table border=\"1\" class=\"dataframe\">\n",
              "  <thead>\n",
              "    <tr style=\"text-align: right;\">\n",
              "      <th></th>\n",
              "      <th>comment</th>\n",
              "      <th>textblob_polarity</th>\n",
              "    </tr>\n",
              "  </thead>\n",
              "  <tbody>\n",
              "    <tr>\n",
              "      <th>8705</th>\n",
              "      <td>Teacher: THE BEST JOB IN TH WORLD IS WHAT?  ST...</td>\n",
              "      <td>1.0</td>\n",
              "    </tr>\n",
              "    <tr>\n",
              "      <th>6961</th>\n",
              "      <td>4:05 he says microwaves are the best but look ...</td>\n",
              "      <td>1.0</td>\n",
              "    </tr>\n",
              "    <tr>\n",
              "      <th>2835</th>\n",
              "      <td>Best channel ever</td>\n",
              "      <td>1.0</td>\n",
              "    </tr>\n",
              "    <tr>\n",
              "      <th>3163</th>\n",
              "      <td>You have a lot of fans from Croatia &lt;3</td>\n",
              "      <td>1.0</td>\n",
              "    </tr>\n",
              "    <tr>\n",
              "      <th>4336</th>\n",
              "      <td>Help me. Please donate me some money. Perfect ...</td>\n",
              "      <td>1.0</td>\n",
              "    </tr>\n",
              "  </tbody>\n",
              "</table>\n",
              "</div>"
            ],
            "text/plain": [
              "                                                comment  textblob_polarity\n",
              "8705  Teacher: THE BEST JOB IN TH WORLD IS WHAT?  ST...                1.0\n",
              "6961  4:05 he says microwaves are the best but look ...                1.0\n",
              "2835                                  Best channel ever                1.0\n",
              "3163             You have a lot of fans from Croatia <3                1.0\n",
              "4336  Help me. Please donate me some money. Perfect ...                1.0"
            ]
          },
          "metadata": {
            "tags": []
          },
          "execution_count": 13
        }
      ]
    },
    {
      "cell_type": "markdown",
      "metadata": {
        "id": "9NnmXzQZPphN"
      },
      "source": [
        "Neutral sentiment"
      ]
    },
    {
      "cell_type": "code",
      "metadata": {
        "colab": {
          "base_uri": "https://localhost:8080/",
          "height": 402
        },
        "id": "-3UWCbpVP0jq",
        "outputId": "2b29bba3-d853-4931-c625-6d3feea8da22"
      },
      "source": [
        "textblob_neutral = comments.query('textblob_polarity == 0').rename(columns={\"comment\": \"textblob_comment\"})[['textblob_comment']].reset_index(drop=True)\r\n",
        "textblob_neutral"
      ],
      "execution_count": null,
      "outputs": [
        {
          "output_type": "execute_result",
          "data": {
            "text/html": [
              "<div>\n",
              "<style scoped>\n",
              "    .dataframe tbody tr th:only-of-type {\n",
              "        vertical-align: middle;\n",
              "    }\n",
              "\n",
              "    .dataframe tbody tr th {\n",
              "        vertical-align: top;\n",
              "    }\n",
              "\n",
              "    .dataframe thead th {\n",
              "        text-align: right;\n",
              "    }\n",
              "</style>\n",
              "<table border=\"1\" class=\"dataframe\">\n",
              "  <thead>\n",
              "    <tr style=\"text-align: right;\">\n",
              "      <th></th>\n",
              "      <th>textblob_comment</th>\n",
              "    </tr>\n",
              "  </thead>\n",
              "  <tbody>\n",
              "    <tr>\n",
              "      <th>0</th>\n",
              "      <td>Relatable</td>\n",
              "    </tr>\n",
              "    <tr>\n",
              "      <th>1</th>\n",
              "      <td>I SAW MR.BEAST GET TO 51 MILLION!</td>\n",
              "    </tr>\n",
              "    <tr>\n",
              "      <th>2</th>\n",
              "      <td>Buy a franchise</td>\n",
              "    </tr>\n",
              "    <tr>\n",
              "      <th>3</th>\n",
              "      <td>Iv heard people say you shouldnt donate to sal...</td>\n",
              "    </tr>\n",
              "    <tr>\n",
              "      <th>4</th>\n",
              "      <td>*what if he goes bankrupt*</td>\n",
              "    </tr>\n",
              "    <tr>\n",
              "      <th>...</th>\n",
              "      <td>...</td>\n",
              "    </tr>\n",
              "    <tr>\n",
              "      <th>6770</th>\n",
              "      <td>Elise Stefanik</td>\n",
              "    </tr>\n",
              "    <tr>\n",
              "      <th>6771</th>\n",
              "      <td>Ryan did the spoon flip</td>\n",
              "    </tr>\n",
              "    <tr>\n",
              "      <th>6772</th>\n",
              "      <td>why am i just now seeing this on my recommended</td>\n",
              "    </tr>\n",
              "    <tr>\n",
              "      <th>6773</th>\n",
              "      <td>Chan Chan's Dog</td>\n",
              "    </tr>\n",
              "    <tr>\n",
              "      <th>6774</th>\n",
              "      <td>Food banks   Am I a joke to you</td>\n",
              "    </tr>\n",
              "  </tbody>\n",
              "</table>\n",
              "<p>6775 rows × 1 columns</p>\n",
              "</div>"
            ],
            "text/plain": [
              "                                       textblob_comment\n",
              "0                                             Relatable\n",
              "1                     I SAW MR.BEAST GET TO 51 MILLION!\n",
              "2                                       Buy a franchise\n",
              "3     Iv heard people say you shouldnt donate to sal...\n",
              "4                            *what if he goes bankrupt*\n",
              "...                                                 ...\n",
              "6770                                     Elise Stefanik\n",
              "6771                            Ryan did the spoon flip\n",
              "6772    why am i just now seeing this on my recommended\n",
              "6773                                    Chan Chan's Dog\n",
              "6774                    Food banks   Am I a joke to you\n",
              "\n",
              "[6775 rows x 1 columns]"
            ]
          },
          "metadata": {
            "tags": []
          },
          "execution_count": 14
        }
      ]
    },
    {
      "cell_type": "markdown",
      "metadata": {
        "id": "Q0hG2LcrPv6F"
      },
      "source": [
        "Negative sentiment"
      ]
    },
    {
      "cell_type": "code",
      "metadata": {
        "colab": {
          "base_uri": "https://localhost:8080/",
          "height": 195
        },
        "id": "Voy3hvy7OC1_",
        "outputId": "a5e81a1f-2e16-40c9-f335-5cd910b28f6f"
      },
      "source": [
        "comments.sort_values(by=['textblob_polarity'], ascending=True)[['comment', 'textblob_polarity']].head()"
      ],
      "execution_count": null,
      "outputs": [
        {
          "output_type": "execute_result",
          "data": {
            "text/html": [
              "<div>\n",
              "<style scoped>\n",
              "    .dataframe tbody tr th:only-of-type {\n",
              "        vertical-align: middle;\n",
              "    }\n",
              "\n",
              "    .dataframe tbody tr th {\n",
              "        vertical-align: top;\n",
              "    }\n",
              "\n",
              "    .dataframe thead th {\n",
              "        text-align: right;\n",
              "    }\n",
              "</style>\n",
              "<table border=\"1\" class=\"dataframe\">\n",
              "  <thead>\n",
              "    <tr style=\"text-align: right;\">\n",
              "      <th></th>\n",
              "      <th>comment</th>\n",
              "      <th>textblob_polarity</th>\n",
              "    </tr>\n",
              "  </thead>\n",
              "  <tbody>\n",
              "    <tr>\n",
              "      <th>6674</th>\n",
              "      <td>this is insane aaa</td>\n",
              "      <td>-1.0</td>\n",
              "    </tr>\n",
              "    <tr>\n",
              "      <th>6869</th>\n",
              "      <td>How dare you guys use lightning McQueens cars ...</td>\n",
              "      <td>-1.0</td>\n",
              "    </tr>\n",
              "    <tr>\n",
              "      <th>6858</th>\n",
              "      <td>im getting insane watching</td>\n",
              "      <td>-1.0</td>\n",
              "    </tr>\n",
              "    <tr>\n",
              "      <th>1074</th>\n",
              "      <td>Thats insane man, he now has cameramans. Becau...</td>\n",
              "      <td>-1.0</td>\n",
              "    </tr>\n",
              "    <tr>\n",
              "      <th>3905</th>\n",
              "      <td>Its terrifying</td>\n",
              "      <td>-1.0</td>\n",
              "    </tr>\n",
              "  </tbody>\n",
              "</table>\n",
              "</div>"
            ],
            "text/plain": [
              "                                                comment  textblob_polarity\n",
              "6674                                 this is insane aaa               -1.0\n",
              "6869  How dare you guys use lightning McQueens cars ...               -1.0\n",
              "6858                         im getting insane watching               -1.0\n",
              "1074  Thats insane man, he now has cameramans. Becau...               -1.0\n",
              "3905                                     Its terrifying               -1.0"
            ]
          },
          "metadata": {
            "tags": []
          },
          "execution_count": 15
        }
      ]
    },
    {
      "cell_type": "markdown",
      "metadata": {
        "id": "nR7-tNhy5eSp"
      },
      "source": [
        "Much better than VADER since the scaling is finer."
      ]
    },
    {
      "cell_type": "code",
      "metadata": {
        "colab": {
          "base_uri": "https://localhost:8080/",
          "height": 394
        },
        "id": "vwdhbd4bG6h0",
        "outputId": "a39ed429-fd5c-452a-d112-42bbad4c0234"
      },
      "source": [
        "pd.set_option('display.max_colwidth', None)\r\n",
        "comments.sort_values(by=['like_count'], ascending=False)[['comment']].head(10)"
      ],
      "execution_count": null,
      "outputs": [
        {
          "output_type": "execute_result",
          "data": {
            "text/html": [
              "<div>\n",
              "<style scoped>\n",
              "    .dataframe tbody tr th:only-of-type {\n",
              "        vertical-align: middle;\n",
              "    }\n",
              "\n",
              "    .dataframe tbody tr th {\n",
              "        vertical-align: top;\n",
              "    }\n",
              "\n",
              "    .dataframe thead th {\n",
              "        text-align: right;\n",
              "    }\n",
              "</style>\n",
              "<table border=\"1\" class=\"dataframe\">\n",
              "  <thead>\n",
              "    <tr style=\"text-align: right;\">\n",
              "      <th></th>\n",
              "      <th>comment</th>\n",
              "    </tr>\n",
              "  </thead>\n",
              "  <tbody>\n",
              "    <tr>\n",
              "      <th>4843</th>\n",
              "      <td>*The only thing bigger than this man's wallet is his heart.*</td>\n",
              "    </tr>\n",
              "    <tr>\n",
              "      <th>8250</th>\n",
              "      <td>In 2045= Mr beast: “Today me and the boy’s are going to destroy the Statue of Liberty and surprise America with a new one!”</td>\n",
              "    </tr>\n",
              "    <tr>\n",
              "      <th>9657</th>\n",
              "      <td>Mr. Beast: walks into a store Cashier: shi-</td>\n",
              "    </tr>\n",
              "    <tr>\n",
              "      <th>9922</th>\n",
              "      <td>\"But thank god they have a clearance section.\" \"Can we pay full price?\" \" *shut up, please.* \"</td>\n",
              "    </tr>\n",
              "    <tr>\n",
              "      <th>5764</th>\n",
              "      <td>When you realize MrBeast does more than the government</td>\n",
              "    </tr>\n",
              "    <tr>\n",
              "      <th>6968</th>\n",
              "      <td>This dude is such a selfless person, he puts his money that he receives back into the community. Incredible.</td>\n",
              "    </tr>\n",
              "    <tr>\n",
              "      <th>7105</th>\n",
              "      <td>Mr. Beast: *Enter the store*  Manager: This is gonna be a lot of money boi. OH YES! HA HA HA</td>\n",
              "    </tr>\n",
              "    <tr>\n",
              "      <th>3963</th>\n",
              "      <td>Mrbeast: buying everything in a store  The people who need to scan everything: Shi- 😐</td>\n",
              "    </tr>\n",
              "    <tr>\n",
              "      <th>3949</th>\n",
              "      <td>LEGENDS are born with an explosion</td>\n",
              "    </tr>\n",
              "    <tr>\n",
              "      <th>11163</th>\n",
              "      <td>MrBeast: “I’m actually here to buy the lot again” Manager: “Again?” MrBeast: *AGAIN*</td>\n",
              "    </tr>\n",
              "  </tbody>\n",
              "</table>\n",
              "</div>"
            ],
            "text/plain": [
              "                                                                                                                           comment\n",
              "4843                                                                  *The only thing bigger than this man's wallet is his heart.*\n",
              "8250   In 2045= Mr beast: “Today me and the boy’s are going to destroy the Statue of Liberty and surprise America with a new one!”\n",
              "9657                                                                                   Mr. Beast: walks into a store Cashier: shi-\n",
              "9922                                \"But thank god they have a clearance section.\" \"Can we pay full price?\" \" *shut up, please.* \"\n",
              "5764                                                                        When you realize MrBeast does more than the government\n",
              "6968                  This dude is such a selfless person, he puts his money that he receives back into the community. Incredible.\n",
              "7105                                  Mr. Beast: *Enter the store*  Manager: This is gonna be a lot of money boi. OH YES! HA HA HA\n",
              "3963                                         Mrbeast: buying everything in a store  The people who need to scan everything: Shi- 😐\n",
              "3949                                                                                            LEGENDS are born with an explosion\n",
              "11163                                         MrBeast: “I’m actually here to buy the lot again” Manager: “Again?” MrBeast: *AGAIN*"
            ]
          },
          "metadata": {
            "tags": []
          },
          "execution_count": 16
        }
      ]
    },
    {
      "cell_type": "markdown",
      "metadata": {
        "id": "AQRj4MEwHThz"
      },
      "source": [
        "#### EDA "
      ]
    },
    {
      "cell_type": "markdown",
      "metadata": {
        "id": "oGillCIZHd6G"
      },
      "source": [
        "Comparing the two model distributions"
      ]
    },
    {
      "cell_type": "code",
      "metadata": {
        "colab": {
          "base_uri": "https://localhost:8080/",
          "height": 369
        },
        "id": "K6OUtozsG3uC",
        "outputId": "066c9bea-10d3-4e0d-d7b8-b90e604d96dd"
      },
      "source": [
        "sub = comments[['comment', 'textblob_polarity', 'vader_comp_sentiment', 'just_date', 'vidid', 'comment_len', 'word_count']]\r\n",
        "pol_hist = sub.melt(id_vars=['comment', 'just_date', 'vidid', 'comment_len', 'word_count'], value_vars=['textblob_polarity', 'vader_comp_sentiment'], var_name='method', value_name='sentiment')\r\n",
        "sns.displot(pol_hist, x=\"sentiment\", hue=\"method\", element=\"step\")\r\n",
        "plt.show()"
      ],
      "execution_count": null,
      "outputs": [
        {
          "output_type": "display_data",
          "data": {
            "image/png": "[encoded data removed]",
            "text/plain": [
              "<Figure size 512.5x360 with 1 Axes>"
            ]
          },
          "metadata": {
            "tags": [],
            "needs_background": "light"
          }
        }
      ]
    },
    {
      "cell_type": "markdown",
      "metadata": {
        "id": "qvxZLKNuNsaQ"
      },
      "source": [
        "Plot the distributions for length of each comment and the number of words in each comment"
      ]
    },
    {
      "cell_type": "code",
      "metadata": {
        "colab": {
          "base_uri": "https://localhost:8080/",
          "height": 721
        },
        "id": "PfGQkVyDGsDK",
        "outputId": "9f7619af-94ba-4b78-edc5-bde59761f8ac"
      },
      "source": [
        "only_textblob = pol_hist.query('method == \"textblob_polarity\"')\r\n",
        "\r\n",
        "sns.displot(only_textblob, x=\"comment_len\")\r\n",
        "sns.displot(only_textblob, x=\"word_count\")\r\n",
        "plt.show()"
      ],
      "execution_count": null,
      "outputs": [
        {
          "output_type": "display_data",
          "data": {
            "image/png": "[encoded data removed]",
            "text/plain": [
              "<Figure size 360x360 with 1 Axes>"
            ]
          },
          "metadata": {
            "tags": [],
            "needs_background": "light"
          }
        },
        {
          "output_type": "display_data",
          "data": {
            "image/png": "[encoded data removed]",
            "text/plain": [
              "<Figure size 360x360 with 1 Axes>"
            ]
          },
          "metadata": {
            "tags": [],
            "needs_background": "light"
          }
        }
      ]
    },
    {
      "cell_type": "markdown",
      "metadata": {
        "id": "chV9-pkWL6_a"
      },
      "source": [
        "Most liked comments"
      ]
    },
    {
      "cell_type": "code",
      "metadata": {
        "colab": {
          "base_uri": "https://localhost:8080/",
          "height": 542
        },
        "id": "wxHCjStrGsKO",
        "outputId": "e61716d1-39d3-4d9f-c16a-290cdbdc225d"
      },
      "source": [
        "pd.set_option('display.max_colwidth', None)\r\n",
        "comments.sort_values(by=['like_count'], ascending=False)[['comment']].head(15)"
      ],
      "execution_count": null,
      "outputs": [
        {
          "output_type": "execute_result",
          "data": {
            "text/html": [
              "<div>\n",
              "<style scoped>\n",
              "    .dataframe tbody tr th:only-of-type {\n",
              "        vertical-align: middle;\n",
              "    }\n",
              "\n",
              "    .dataframe tbody tr th {\n",
              "        vertical-align: top;\n",
              "    }\n",
              "\n",
              "    .dataframe thead th {\n",
              "        text-align: right;\n",
              "    }\n",
              "</style>\n",
              "<table border=\"1\" class=\"dataframe\">\n",
              "  <thead>\n",
              "    <tr style=\"text-align: right;\">\n",
              "      <th></th>\n",
              "      <th>comment</th>\n",
              "    </tr>\n",
              "  </thead>\n",
              "  <tbody>\n",
              "    <tr>\n",
              "      <th>4843</th>\n",
              "      <td>*The only thing bigger than this man's wallet is his heart.*</td>\n",
              "    </tr>\n",
              "    <tr>\n",
              "      <th>8250</th>\n",
              "      <td>In 2045= Mr beast: “Today me and the boy’s are going to destroy the Statue of Liberty and surprise America with a new one!”</td>\n",
              "    </tr>\n",
              "    <tr>\n",
              "      <th>9657</th>\n",
              "      <td>Mr. Beast: walks into a store Cashier: shi-</td>\n",
              "    </tr>\n",
              "    <tr>\n",
              "      <th>9922</th>\n",
              "      <td>\"But thank god they have a clearance section.\" \"Can we pay full price?\" \" *shut up, please.* \"</td>\n",
              "    </tr>\n",
              "    <tr>\n",
              "      <th>5764</th>\n",
              "      <td>When you realize MrBeast does more than the government</td>\n",
              "    </tr>\n",
              "    <tr>\n",
              "      <th>6968</th>\n",
              "      <td>This dude is such a selfless person, he puts his money that he receives back into the community. Incredible.</td>\n",
              "    </tr>\n",
              "    <tr>\n",
              "      <th>7105</th>\n",
              "      <td>Mr. Beast: *Enter the store*  Manager: This is gonna be a lot of money boi. OH YES! HA HA HA</td>\n",
              "    </tr>\n",
              "    <tr>\n",
              "      <th>3963</th>\n",
              "      <td>Mrbeast: buying everything in a store  The people who need to scan everything: Shi- 😐</td>\n",
              "    </tr>\n",
              "    <tr>\n",
              "      <th>3949</th>\n",
              "      <td>LEGENDS are born with an explosion</td>\n",
              "    </tr>\n",
              "    <tr>\n",
              "      <th>11163</th>\n",
              "      <td>MrBeast: “I’m actually here to buy the lot again” Manager: “Again?” MrBeast: *AGAIN*</td>\n",
              "    </tr>\n",
              "    <tr>\n",
              "      <th>7460</th>\n",
              "      <td>Simple, you give him money, he gives back to the community</td>\n",
              "    </tr>\n",
              "    <tr>\n",
              "      <th>5818</th>\n",
              "      <td>Im just surprised he does this good for people than anyone ever has</td>\n",
              "    </tr>\n",
              "    <tr>\n",
              "      <th>10839</th>\n",
              "      <td>MrBeast in 5 years: “I bought a whole city and giving it to a random person!”</td>\n",
              "    </tr>\n",
              "    <tr>\n",
              "      <th>7196</th>\n",
              "      <td>MOM I BOUGHT EVERYTHING FROM 5 STORES\" Good job son:- wait</td>\n",
              "    </tr>\n",
              "    <tr>\n",
              "      <th>7059</th>\n",
              "      <td>mr beast in 2050: buying a child and suprising their parents with a new one</td>\n",
              "    </tr>\n",
              "  </tbody>\n",
              "</table>\n",
              "</div>"
            ],
            "text/plain": [
              "                                                                                                                           comment\n",
              "4843                                                                  *The only thing bigger than this man's wallet is his heart.*\n",
              "8250   In 2045= Mr beast: “Today me and the boy’s are going to destroy the Statue of Liberty and surprise America with a new one!”\n",
              "9657                                                                                   Mr. Beast: walks into a store Cashier: shi-\n",
              "9922                                \"But thank god they have a clearance section.\" \"Can we pay full price?\" \" *shut up, please.* \"\n",
              "5764                                                                        When you realize MrBeast does more than the government\n",
              "6968                  This dude is such a selfless person, he puts his money that he receives back into the community. Incredible.\n",
              "7105                                  Mr. Beast: *Enter the store*  Manager: This is gonna be a lot of money boi. OH YES! HA HA HA\n",
              "3963                                         Mrbeast: buying everything in a store  The people who need to scan everything: Shi- 😐\n",
              "3949                                                                                            LEGENDS are born with an explosion\n",
              "11163                                         MrBeast: “I’m actually here to buy the lot again” Manager: “Again?” MrBeast: *AGAIN*\n",
              "7460                                                                    Simple, you give him money, he gives back to the community\n",
              "5818                                                           Im just surprised he does this good for people than anyone ever has\n",
              "10839                                                MrBeast in 5 years: “I bought a whole city and giving it to a random person!”\n",
              "7196                                                                    MOM I BOUGHT EVERYTHING FROM 5 STORES\" Good job son:- wait\n",
              "7059                                                   mr beast in 2050: buying a child and suprising their parents with a new one"
            ]
          },
          "metadata": {
            "tags": []
          },
          "execution_count": 19
        }
      ]
    },
    {
      "cell_type": "markdown",
      "metadata": {
        "id": "LvaG4WHcSAIM"
      },
      "source": [
        "Sentiment per video\r\n",
        "\r\n",
        "Since there are so many videos, I will just show the more recent videos since the x axis scaling won't keep up."
      ]
    },
    {
      "cell_type": "code",
      "metadata": {
        "id": "BcC9xQ4vGsPy"
      },
      "source": [
        "comments.groupby('vid_title').mean()[['textblob_polarity']].sort_values(by=['textblob_polarity'], ascending=True)\r\n",
        "\r\n",
        "# Trim the data to just some of my favorite videos\r\n",
        "  # I Opened A Restaurant That Pays You To Eat At It\r\n",
        "  # I Bought Everything In 5 Stores\r\n",
        "  # If You Click This Video I'll Give My Friend .001$\r\n",
        "  # I Opened A Free Car Dealership\r\n",
        "  # $200,000 Youtuber Battle Royale\r\n",
        "  # I Ate A $70,000 Golden Pizza\r\n",
        "shortList = ['I Opened A Restaurant That Pays You To Eat At It','I Bought Everything In 5 Stores',\"If You Click This Video I'll Give My Friend .001$\",'I Opened A Free Car Dealership','$200,000 Youtuber Battle Royale','I Ate A $70,000 Golden Pizza']\r\n",
        "tempData = comments.loc[comments.vid_title.isin(shortList)]"
      ],
      "execution_count": null,
      "outputs": []
    },
    {
      "cell_type": "code",
      "metadata": {
        "colab": {
          "base_uri": "https://localhost:8080/",
          "height": 500
        },
        "id": "TnsEnLmdZs-w",
        "outputId": "c5f8ab8b-ce9d-4d58-e6f6-35c04347ed36"
      },
      "source": [
        "ax = sns.boxplot(x=\"vid_title\", y=\"textblob_polarity\", data = tempData)\r\n",
        "ax.set_xticklabels(ax.get_xticklabels(),rotation=30)"
      ],
      "execution_count": null,
      "outputs": [
        {
          "output_type": "execute_result",
          "data": {
            "text/plain": [
              "[Text(0, 0, 'I Opened A Restaurant That Pays You To Eat At It'),\n",
              " Text(0, 0, 'I Bought Everything In 5 Stores'),\n",
              " Text(0, 0, \"If You Click This Video I'll Give My Friend .001$\"),\n",
              " Text(0, 0, 'I Opened A Free Car Dealership'),\n",
              " Text(0, 0, '$200,000 Youtuber Battle Royale'),\n",
              " Text(0, 0, 'I Ate A $70,000 Golden Pizza')]"
            ]
          },
          "metadata": {
            "tags": []
          },
          "execution_count": 27
        },
        {
          "output_type": "display_data",
          "data": {
            "image/png": "[encoded data removed]",
            "text/plain": [
              "<Figure size 432x288 with 1 Axes>"
            ]
          },
          "metadata": {
            "tags": [],
            "needs_background": "light"
          }
        }
      ]
    },
    {
      "cell_type": "markdown",
      "metadata": {
        "id": "j55hjh5gbLx3"
      },
      "source": [
        "Everyone loves a free car."
      ]
    },
    {
      "cell_type": "markdown",
      "metadata": {
        "id": "WUP_BnfrSVqp"
      },
      "source": [
        "Sentiments over time"
      ]
    },
    {
      "cell_type": "code",
      "metadata": {
        "colab": {
          "base_uri": "https://localhost:8080/",
          "height": 280
        },
        "id": "q6XUNZhWPpLC",
        "outputId": "ff72994e-68dc-4b48-96e5-e08b067d3bad"
      },
      "source": [
        "sns.lineplot(x=\"just_date\", y=\"sentiment\", hue=\"method\", data=pol_hist)\r\n",
        "plt.show()"
      ],
      "execution_count": null,
      "outputs": [
        {
          "output_type": "display_data",
          "data": {
            "image/png": "[encoded data removed]",
            "text/plain": [
              "<Figure size 432x288 with 1 Axes>"
            ]
          },
          "metadata": {
            "tags": [],
            "needs_background": "light"
          }
        }
      ]
    },
    {
      "cell_type": "markdown",
      "metadata": {
        "id": "mOKSSBkSSY8M"
      },
      "source": [
        "Wonderful! This channel is only growing."
      ]
    },
    {
      "cell_type": "markdown",
      "metadata": {
        "id": "9F6HUUjdbdeO"
      },
      "source": [
        "#### K Means Clustering of Comments"
      ]
    },
    {
      "cell_type": "markdown",
      "metadata": {
        "id": "BrDeoGH7bjSU"
      },
      "source": [
        "We will now try to find clusters in this unlabelled data to explain the realtionship between comments. We calculate distances between points to group similar data together. We fix a K, also known as the number of centroids or clusters. We then allocate every data point to the nearest cluster. The mean in the algorithm name literally refers to the average which leads us to the centroid. If I choose K = 2 and the comments are truly polarized, perhaps the channel's comment community isn't very positive. \r\n",
        "\r\n",
        "When working with text data, especially comments, I will need to remove emojis or replace them with their literal text definition. I will just remove them here. Similarly, I will need to remove punctuation, stopwords and tokenize the remaining words. Here, lemmatization will convert a word to its base form without taking away meaning as opposed to stemming. The result will then be vectorized, returning a list."
      ]
    },
    {
      "cell_type": "code",
      "metadata": {
        "id": "w6w2kwuEbijq"
      },
      "source": [
        "from sklearn.feature_extraction import text\r\n",
        "from sklearn.feature_extraction.text import TfidfVectorizer\r\n",
        "from sklearn.cluster import KMeans\r\n",
        "from nltk.tokenize import RegexpTokenizer\r\n",
        "from nltk.stem.snowball import SnowballStemmer\r\n",
        "%matplotlib inline"
      ],
      "execution_count": null,
      "outputs": []
    },
    {
      "cell_type": "code",
      "metadata": {
        "id": "stkRJ96ntmjN"
      },
      "source": [
        "import string\r\n",
        "import emoji\r\n",
        "\r\n",
        "def removeEmojis(text):\r\n",
        "  allComments = [str for str in text]\r\n",
        "  allEmojis = [char for char in allComments if char in emoji.UNICODE_EMOJI] \r\n",
        "  cleanedText = ' '.join([str for str in text.split() if not any(i in str for i in allEmojis)])\r\n",
        "  return cleanedText"
      ],
      "execution_count": null,
      "outputs": []
    },
    {
      "cell_type": "code",
      "metadata": {
        "colab": {
          "base_uri": "https://localhost:8080/"
        },
        "id": "ejrybJNg-S4x",
        "outputId": "cc546332-1895-4399-94bd-867adaf7cc84"
      },
      "source": [
        "import nltk\r\n",
        "from nltk.corpus import stopwords\r\n",
        "from nltk.stem import WordNetLemmatizer\r\n",
        "from nltk.tokenize import RegexpTokenizer\r\n",
        "nltk.download('stopwords')\r\n",
        "nltk.download('wordnet')\r\n",
        "\r\n",
        "def preprocessText(text):\r\n",
        "  lemmatizer = WordNetLemmatizer()\r\n",
        "  withoutPunctuation = [char for char in text if char not in string.punctuation]\r\n",
        "  withoutPunctuation = ''.join([i for i in withoutPunctuation if not i.isdigit()])\r\n",
        "  withoutPunctuation = [word.lower() for word in withoutPunctuation.split() if word not in stopwords.words('english')]\r\n",
        "  temp = [lemmatizer.lemmatize(word) for word in withoutPunctuation]\r\n",
        "\r\n",
        "  joined = ' '.join(temp)\r\n",
        "\r\n",
        "  # Remove emojis \r\n",
        "  joined = removeEmojis(joined)\r\n",
        "  return joined.split()"
      ],
      "execution_count": null,
      "outputs": [
        {
          "output_type": "stream",
          "text": [
            "[nltk_data] Downloading package stopwords to /root/nltk_data...\n",
            "[nltk_data]   Package stopwords is already up-to-date!\n",
            "[nltk_data] Downloading package wordnet to /root/nltk_data...\n",
            "[nltk_data]   Package wordnet is already up-to-date!\n"
          ],
          "name": "stdout"
        }
      ]
    },
    {
      "cell_type": "code",
      "metadata": {
        "colab": {
          "base_uri": "https://localhost:8080/",
          "height": 295
        },
        "id": "LAyZz0_yAJhN",
        "outputId": "85e0dcdd-f1c3-418b-fb8f-9396a1014c1f"
      },
      "source": [
        "from sklearn.feature_extraction import text\r\n",
        "from sklearn.feature_extraction.text import TfidfVectorizer\r\n",
        "from sklearn.cluster import KMeans\r\n",
        "\r\n",
        "desc = comments['comment'].values \r\n",
        "vectorizer4 = TfidfVectorizer(analyzer = preprocessText, stop_words=stopwords.words('english'), ngram_range=(1,3))\r\n",
        "X4 = vectorizer4.fit_transform(desc)\r\n",
        "words = vectorizer4.get_feature_names()\r\n",
        "\r\n",
        "WSS = []\r\n",
        "for i in range(1,10):\r\n",
        "    kmeans = KMeans(n_clusters=i,init='k-means++',max_iter=300,n_init=10,random_state=42)\r\n",
        "    kmeans.fit(X4)\r\n",
        "    WSS.append(kmeans.inertia_)\r\n",
        "plt.plot(range(1,10),WSS)\r\n",
        "plt.title('The Elbow Method')\r\n",
        "plt.xlabel('Number of clusters')\r\n",
        "plt.ylabel('WSS')\r\n",
        "plt.show()"
      ],
      "execution_count": null,
      "outputs": [
        {
          "output_type": "display_data",
          "data": {
            "image/png": "[encoded data removed]",
            "text/plain": [
              "<Figure size 432x288 with 1 Axes>"
            ]
          },
          "metadata": {
            "tags": [],
            "needs_background": "light"
          }
        }
      ]
    },
    {
      "cell_type": "markdown",
      "metadata": {
        "id": "3gfAUel5EFAk"
      },
      "source": [
        "K = 8 is the best. I can't exactly use k = 2 so let's see if we can work with 8 even if it is more complex."
      ]
    },
    {
      "cell_type": "markdown",
      "metadata": {
        "id": "ZurhMWSYmcaI"
      },
      "source": [
        "To find the ideal number of clusters, we can use the elbow method. We fit a range of values for K. Then we look for an elbow (point of inflection) in the line plot of WSS vs number of clusters. The location of this elbow is an indicator of the most appropriate number of clusters.\r\n",
        "\r\n",
        "The elbow method looks at the total WSS as a function of the clusters. The WSS or the within-cluster sum of square measures the compactness of the clustering which should be as small as possible here so that is why we look for the inflection point. "
      ]
    },
    {
      "cell_type": "code",
      "metadata": {
        "id": "GHkfvR9_qcJA",
        "colab": {
          "base_uri": "https://localhost:8080/"
        },
        "outputId": "d31653d6-be73-4a31-8a1b-8eb17a8bcaff"
      },
      "source": [
        "kmeans = KMeans(n_clusters = 8, n_init = 20, n_jobs = 1)\r\n",
        "kmeans.fit(X4)\r\n",
        "common_words = kmeans.cluster_centers_.argsort()[:,-1:-26:-1]\r\n",
        "for num, centroid in enumerate(common_words):\r\n",
        "    print(str(num) + ' : ' + ', '.join(words[word] for word in centroid))"
      ],
      "execution_count": null,
      "outputs": [
        {
          "output_type": "stream",
          "text": [
            "0 : mrbeast, money, u, the, million, chandler, you, im, this, wow, give, who, get, buy, please, he, good, guy, one, man, watching, fan, people, what, jimmy\n",
            "1 : beast, mr, i, love, president, best, u, money, buy, give, get, please, world, me, im, one, hey, good, want, this, you, person, need, fan, bought\n",
            "2 : hi, dad, mrbeast, mr, beast, jimmy, bro, philippine, fan, im, katie, georgie, lazar, squirtle, future, let, karl, i’m, india, come, gate, garden, garett, generation, garret\n",
            "3 : i, love, mrbeast, want, get, would, video, need, wish, think, one, subscribed, see, money, people, chandler, dont, can, india, feel, hope, could, really, know, please\n",
            "4 : chris, poor, chandler, i, karl, im, u, jimmy, is, love, moisturize, doe, hand, the, it, think, looking, shirt, did, life, literally, belle, delphine, always, else\n",
            "5 : lol, i, got, mil, million, vid, imagine, would, chandler, guy, sub, car, im, get, mrbeast, free, people, year, omg, didnt, first, still, funny, why, used\n",
            "6 : bald, gang, tyler, oliveira, sub, to, go, olivera, yeeeeeeee, raider, member, where, come, sup, u, is, a, one, im, gamecube, gear, gas, gate, gather, galaxy\n",
            "7 : year, recommended, later, got, ago, why, after, who, else, i, cookie, recommend, anyone, getting, recommendation, get, this, lol, it, still, comment, two, million, watching, how\n"
          ],
          "name": "stdout"
        }
      ]
    },
    {
      "cell_type": "markdown",
      "metadata": {
        "id": "dcaP_DbSGmB-"
      },
      "source": [
        "Notable observations:\r\n",
        "\r\n",
        "The fifth cluster has the names of people in the group <br>\r\n",
        "The first cluster has people begging for money <br>\r\n",
        "In most of the clusters, 'sub' shows up which for a while was part of the \"subcribe to Pewdiepie\" campaign. Now, it is just bot accounts asking people to subscribe to a channel. <br>\r\n",
        "Earlier, when I removed author name MrBeast this also took out any spam accounts that pretended to have the same name as the actual MrBeast. However, there are plenty of other names with links as actual comments. But when I removed punctuation, those comments only left behind 'lol', 'omg' and 'sub'. <br>\r\n",
        "Since I use lematization instead of stemming, the clusters have words that only differ by tense."
      ]
    },
    {
      "cell_type": "markdown",
      "metadata": {
        "id": "mip58_s6G79e"
      },
      "source": [
        "#### Most Defining Words"
      ]
    },
    {
      "cell_type": "code",
      "metadata": {
        "colab": {
          "base_uri": "https://localhost:8080/"
        },
        "id": "sNk75f36G2yr",
        "outputId": "7751afb1-586a-4c0d-ba54-d354c62c5a1b"
      },
      "source": [
        "!pip install scattertext\r\n",
        "import spacy.cli\r\n",
        "spacy.cli.download(\"en_core_web_lg\")\r\n",
        "import scattertext as st\r\n",
        "\r\n",
        "nlp = spacy.load('en_core_web_lg')\r\n",
        "corpus = st.CorpusFromPandas(only_textblob, category_col='vidid', text_col='comment', nlp=nlp).build()\r\n",
        "# terms that differentiate text from background text \r\n",
        "print(list(corpus.get_scaled_f_scores_vs_background().index[:20]))"
      ],
      "execution_count": null,
      "outputs": [
        {
          "output_type": "stream",
          "text": [
            "Collecting scattertext\n",
            "\u001b[?25l  Downloading https://files.pythonhosted.org/packages/1f/df/52036790d0d4577f580a3d1d911c5634cee9d1b2e65db133c27af1e73115/scattertext-0.0.2.75-py3-none-any.whl (7.3MB)\n",
            "\u001b[K     |████████████████████████████████| 7.3MB 4.2MB/s \n",
            "\u001b[?25hCollecting mock\n",
            "  Downloading https://files.pythonhosted.org/packages/5c/03/b7e605db4a57c0f6fba744b11ef3ddf4ddebcada35022927a2b5fc623fdf/mock-4.0.3-py3-none-any.whl\n",
            "Collecting flashtext\n",
            "  Downloading https://files.pythonhosted.org/packages/81/d8/2cd0656eae456d615c2f1efbcae8dfca2cb871a31f34ba8925aba47d5e09/flashtext-2.7.tar.gz\n",
            "Requirement already satisfied: scipy in /usr/local/lib/python3.6/dist-packages (from scattertext) (1.4.1)\n",
            "Requirement already satisfied: statsmodels in /usr/local/lib/python3.6/dist-packages (from scattertext) (0.10.2)\n",
            "Requirement already satisfied: numpy in /usr/local/lib/python3.6/dist-packages (from scattertext) (1.19.5)\n",
            "Requirement already satisfied: pandas in /usr/local/lib/python3.6/dist-packages (from scattertext) (1.1.5)\n",
            "Requirement already satisfied: six in /usr/local/lib/python3.6/dist-packages (from scattertext) (1.15.0)\n",
            "Requirement already satisfied: scikit-learn in /usr/local/lib/python3.6/dist-packages (from scattertext) (0.22.2.post1)\n",
            "Requirement already satisfied: patsy>=0.4.0 in /usr/local/lib/python3.6/dist-packages (from statsmodels->scattertext) (0.5.1)\n",
            "Requirement already satisfied: pytz>=2017.2 in /usr/local/lib/python3.6/dist-packages (from pandas->scattertext) (2018.9)\n",
            "Requirement already satisfied: python-dateutil>=2.7.3 in /usr/local/lib/python3.6/dist-packages (from pandas->scattertext) (2.8.1)\n",
            "Requirement already satisfied: joblib>=0.11 in /usr/local/lib/python3.6/dist-packages (from scikit-learn->scattertext) (1.0.0)\n",
            "Building wheels for collected packages: flashtext\n",
            "  Building wheel for flashtext (setup.py) ... \u001b[?25l\u001b[?25hdone\n",
            "  Created wheel for flashtext: filename=flashtext-2.7-py2.py3-none-any.whl size=9299 sha256=7114eb7f12b3eb10c9ed5cd51214b716c00c7c6391c4fc55d55eb65fc96c12f9\n",
            "  Stored in directory: /root/.cache/pip/wheels/37/db/d7/fe74f7cb8e5c3afed90fe6f4967c933a6f13d81ab6b3d3128c\n",
            "Successfully built flashtext\n",
            "Installing collected packages: mock, flashtext, scattertext\n",
            "Successfully installed flashtext-2.7 mock-4.0.3 scattertext-0.0.2.75\n",
            "\u001b[38;5;2m✔ Download and installation successful\u001b[0m\n",
            "You can now load the model via spacy.load('en_core_web_lg')\n",
            "['mrbeast', 'bruh', 'pewdiepie', 'youtuber', 'minecraft', 'matterego', 'youtubers', 'iphone', 'fortnite', 'roblox', 'tiktokers', 'morgz', 'subbed', 'korone', 'subed', 'covid', 'carryminati', 'robux', 'nogla', 'chanler']\n"
          ],
          "name": "stdout"
        }
      ]
    },
    {
      "cell_type": "markdown",
      "metadata": {
        "id": "UCFI8uQSIh5G"
      },
      "source": [
        "I should check for spelling but here we can tell that some of these defining words were obvious. Most of the other words also make sense."
      ]
    }
  ]
}