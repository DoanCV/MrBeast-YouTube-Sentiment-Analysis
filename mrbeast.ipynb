{
  "nbformat": 4,
  "nbformat_minor": 0,
  "metadata": {
    "colab": {
      "name": "mrbeast.ipynb",
      "provenance": [],
      "authorship_tag": "ABX9TyPoj/qb/VK8uQLZHn2yfumH"
    },
    "kernelspec": {
      "name": "python3",
      "display_name": "Python 3"
    }
  },
  "cells": [
    {
      "cell_type": "markdown",
      "metadata": {
        "id": "qeDRMlUk4S3e"
      },
      "source": [
        "# Exploring and Analyzing MrBeast YouTube Comments\r\n",
        "\r\n"
      ]
    },
    {
      "cell_type": "markdown",
      "metadata": {
        "id": "XJBvqnYM5Yys"
      },
      "source": [
        "YouTube is not only a popular social media platform but is also the second largest search engine. Consequently, promotional content is a main staple on YouTube, reaching a very large audience. Videos are accompanied by a comments section which allow viewers to engage with content creators or other fans. With this level of engagement, companies flock to larger channels to offer sponsorships to promote products within a video in exchange for benefits.   \r\n",
        "\r\n",
        "Of the many YouTube content creators, MrBeast is known for his unique expenditures and charitable acts, a lot of which are sponsored by companies which provide the capital. I am interested in analyzing YouTube comments on the MrBeast channel since his content is not controversial and I am curious to see if the comments are overwhelmingly positive as rumored. MrBeast often films with his good friends and I want to see who is the most popular across the videos (I suspect Chandler). Similarly, I want to see the most defining words the channel.\r\n",
        "\r\n",
        "Moreover, to get the comments, I have to build and clean the dataset from scratch which is something I want to challenge myself to do. I can use this exposure to scraping to improve existing datasets or create new datasets to address business problems. \r\n",
        "\r\n"
      ]
    },
    {
      "cell_type": "markdown",
      "metadata": {
        "id": "slx6dchX5Fjr"
      },
      "source": [
        "#### Import Libraries"
      ]
    },
    {
      "cell_type": "code",
      "metadata": {
        "colab": {
          "base_uri": "https://localhost:8080/"
        },
        "id": "vWkccy7n1hS9",
        "outputId": "60e45c67-4049-4ae8-96ae-2c374f09a440"
      },
      "source": [
        "import pandas as pd\r\n",
        "import numpy as np\r\n",
        "import seaborn as sns\r\n",
        "import matplotlib.pyplot as plt\r\n",
        "\r\n",
        "!pip install emoji\r\n",
        "from emoji import UNICODE_EMOJI\r\n",
        "\r\n",
        "!pip install vaderSentiment\r\n",
        "from vaderSentiment.vaderSentiment import SentimentIntensityAnalyzer\r\n",
        "\r\n",
        "!pip install TextBlob\r\n",
        "from textblob import TextBlob\r\n",
        "from textblob import Word"
      ],
      "execution_count": 11,
      "outputs": [
        {
          "output_type": "stream",
          "text": [
            "Requirement already satisfied: emoji in /usr/local/lib/python3.6/dist-packages (0.6.0)\n",
            "Requirement already satisfied: vaderSentiment in /usr/local/lib/python3.6/dist-packages (3.3.2)\n",
            "Requirement already satisfied: requests in /usr/local/lib/python3.6/dist-packages (from vaderSentiment) (2.23.0)\n",
            "Requirement already satisfied: certifi>=2017.4.17 in /usr/local/lib/python3.6/dist-packages (from requests->vaderSentiment) (2020.12.5)\n",
            "Requirement already satisfied: urllib3!=1.25.0,!=1.25.1,<1.26,>=1.21.1 in /usr/local/lib/python3.6/dist-packages (from requests->vaderSentiment) (1.24.3)\n",
            "Requirement already satisfied: chardet<4,>=3.0.2 in /usr/local/lib/python3.6/dist-packages (from requests->vaderSentiment) (3.0.4)\n",
            "Requirement already satisfied: idna<3,>=2.5 in /usr/local/lib/python3.6/dist-packages (from requests->vaderSentiment) (2.10)\n",
            "Requirement already satisfied: TextBlob in /usr/local/lib/python3.6/dist-packages (0.15.3)\n",
            "Requirement already satisfied: nltk>=3.1 in /usr/local/lib/python3.6/dist-packages (from TextBlob) (3.2.5)\n",
            "Requirement already satisfied: six in /usr/local/lib/python3.6/dist-packages (from nltk>=3.1->TextBlob) (1.15.0)\n"
          ],
          "name": "stdout"
        }
      ]
    },
    {
      "cell_type": "code",
      "metadata": {
        "id": "d9q5C2JN6RWe",
        "colab": {
          "base_uri": "https://localhost:8080/",
          "height": 585
        },
        "outputId": "b0578260-5518-4190-bcae-2a10857f2895"
      },
      "source": [
        "file_mrbeast = 'MrBeast_comments.csv'\r\n",
        "df = pd.read_csv(file_mrbeast)\r\n",
        "df.head()"
      ],
      "execution_count": 12,
      "outputs": [
        {
          "output_type": "execute_result",
          "data": {
            "text/html": [
              "<div>\n",
              "<style scoped>\n",
              "    .dataframe tbody tr th:only-of-type {\n",
              "        vertical-align: middle;\n",
              "    }\n",
              "\n",
              "    .dataframe tbody tr th {\n",
              "        vertical-align: top;\n",
              "    }\n",
              "\n",
              "    .dataframe thead th {\n",
              "        text-align: right;\n",
              "    }\n",
              "</style>\n",
              "<table border=\"1\" class=\"dataframe\">\n",
              "  <thead>\n",
              "    <tr style=\"text-align: right;\">\n",
              "      <th></th>\n",
              "      <th>Unnamed: 0</th>\n",
              "      <th>comment</th>\n",
              "      <th>comment_id</th>\n",
              "      <th>author_url</th>\n",
              "      <th>author_name</th>\n",
              "      <th>reply_count</th>\n",
              "      <th>like_count</th>\n",
              "      <th>date</th>\n",
              "      <th>vidid</th>\n",
              "      <th>total_reply_counts</th>\n",
              "      <th>vid_title</th>\n",
              "      <th>just_date</th>\n",
              "    </tr>\n",
              "  </thead>\n",
              "  <tbody>\n",
              "    <tr>\n",
              "      <th>0</th>\n",
              "      <td>0</td>\n",
              "      <td>\"I'm sorry, international fans\"\\n\\n*Cries in P...</td>\n",
              "      <td>UgxTQx4UK1GxX8csGQN4AaABAg</td>\n",
              "      <td>http://www.youtube.com/channel/UCRvvUJye_0IPDE...</td>\n",
              "      <td>Allona Shanley Magpantay</td>\n",
              "      <td>0</td>\n",
              "      <td>0</td>\n",
              "      <td>2021-01-13 16:59:52+00:00</td>\n",
              "      <td>dg2Ag3e8W-Q</td>\n",
              "      <td>0</td>\n",
              "      <td>I Opened A Restaurant That Pays You To Eat At It</td>\n",
              "      <td>2021-01-13</td>\n",
              "    </tr>\n",
              "    <tr>\n",
              "      <th>1</th>\n",
              "      <td>1</td>\n",
              "      <td>Relatable</td>\n",
              "      <td>UgxU3cNgqkyGMDAuXxJ4AaABAg</td>\n",
              "      <td>http://www.youtube.com/channel/UC8FTumc39Z00Vn...</td>\n",
              "      <td>Sagar Gwal</td>\n",
              "      <td>0</td>\n",
              "      <td>0</td>\n",
              "      <td>2021-01-13 16:59:46+00:00</td>\n",
              "      <td>LeYsRMZFUq0</td>\n",
              "      <td>0</td>\n",
              "      <td>I Gave People $1,000,000 But ONLY 1 Minute To ...</td>\n",
              "      <td>2021-01-13</td>\n",
              "    </tr>\n",
              "    <tr>\n",
              "      <th>2</th>\n",
              "      <td>2</td>\n",
              "      <td>How do you Gus love that crap</td>\n",
              "      <td>UgyUaDvKrt8ioZ7QTbh4AaABAg</td>\n",
              "      <td>http://www.youtube.com/channel/UCnF6pvaO6iYSnY...</td>\n",
              "      <td>Noah Rodriguez</td>\n",
              "      <td>0</td>\n",
              "      <td>0</td>\n",
              "      <td>2021-01-13 16:59:43+00:00</td>\n",
              "      <td>A-vX1AGBGsc</td>\n",
              "      <td>0</td>\n",
              "      <td>I Went Back To 1st Grade For A Day</td>\n",
              "      <td>2021-01-13</td>\n",
              "    </tr>\n",
              "    <tr>\n",
              "      <th>3</th>\n",
              "      <td>3</td>\n",
              "      <td>I wouldn’t be surprised if MrBeast became one ...</td>\n",
              "      <td>UgwBA9pqqOVRBKXl17B4AaABAg</td>\n",
              "      <td>http://www.youtube.com/channel/UCOQ-Z0f0gWPtGQ...</td>\n",
              "      <td>TheFlaaa</td>\n",
              "      <td>0</td>\n",
              "      <td>0</td>\n",
              "      <td>2021-01-13 16:59:43+00:00</td>\n",
              "      <td>5Fg9oZk-5uA</td>\n",
              "      <td>0</td>\n",
              "      <td>I Bought Everything In 5 Stores</td>\n",
              "      <td>2021-01-13</td>\n",
              "    </tr>\n",
              "    <tr>\n",
              "      <th>4</th>\n",
              "      <td>4</td>\n",
              "      <td>Chandler:eats a rose</td>\n",
              "      <td>UgxhD7F8V6WUiYXvA5F4AaABAg</td>\n",
              "      <td>http://www.youtube.com/channel/UCZocmKEhNiRotw...</td>\n",
              "      <td>Emilija Mikuckyte</td>\n",
              "      <td>0</td>\n",
              "      <td>0</td>\n",
              "      <td>2021-01-13 16:59:43+00:00</td>\n",
              "      <td>i6OUv48w1bk</td>\n",
              "      <td>0</td>\n",
              "      <td>Surprising My Girlfriend With 100,000 Roses Fo...</td>\n",
              "      <td>2021-01-13</td>\n",
              "    </tr>\n",
              "  </tbody>\n",
              "</table>\n",
              "</div>"
            ],
            "text/plain": [
              "   Unnamed: 0  ...   just_date\n",
              "0           0  ...  2021-01-13\n",
              "1           1  ...  2021-01-13\n",
              "2           2  ...  2021-01-13\n",
              "3           3  ...  2021-01-13\n",
              "4           4  ...  2021-01-13\n",
              "\n",
              "[5 rows x 12 columns]"
            ]
          },
          "metadata": {
            "tags": []
          },
          "execution_count": 12
        }
      ]
    },
    {
      "cell_type": "code",
      "metadata": {
        "id": "dya5Fyqk1-gJ",
        "colab": {
          "base_uri": "https://localhost:8080/",
          "height": 585
        },
        "outputId": "a2d2ba8d-219f-46a5-bc48-f2c0812946eb"
      },
      "source": [
        "# Remove comments by the author of the video i.e. MrBeast\r\n",
        "comments = df.query('author_name != \"MrBeast\"')\r\n",
        "comments.head()"
      ],
      "execution_count": 13,
      "outputs": [
        {
          "output_type": "execute_result",
          "data": {
            "text/html": [
              "<div>\n",
              "<style scoped>\n",
              "    .dataframe tbody tr th:only-of-type {\n",
              "        vertical-align: middle;\n",
              "    }\n",
              "\n",
              "    .dataframe tbody tr th {\n",
              "        vertical-align: top;\n",
              "    }\n",
              "\n",
              "    .dataframe thead th {\n",
              "        text-align: right;\n",
              "    }\n",
              "</style>\n",
              "<table border=\"1\" class=\"dataframe\">\n",
              "  <thead>\n",
              "    <tr style=\"text-align: right;\">\n",
              "      <th></th>\n",
              "      <th>Unnamed: 0</th>\n",
              "      <th>comment</th>\n",
              "      <th>comment_id</th>\n",
              "      <th>author_url</th>\n",
              "      <th>author_name</th>\n",
              "      <th>reply_count</th>\n",
              "      <th>like_count</th>\n",
              "      <th>date</th>\n",
              "      <th>vidid</th>\n",
              "      <th>total_reply_counts</th>\n",
              "      <th>vid_title</th>\n",
              "      <th>just_date</th>\n",
              "    </tr>\n",
              "  </thead>\n",
              "  <tbody>\n",
              "    <tr>\n",
              "      <th>0</th>\n",
              "      <td>0</td>\n",
              "      <td>\"I'm sorry, international fans\"\\n\\n*Cries in P...</td>\n",
              "      <td>UgxTQx4UK1GxX8csGQN4AaABAg</td>\n",
              "      <td>http://www.youtube.com/channel/UCRvvUJye_0IPDE...</td>\n",
              "      <td>Allona Shanley Magpantay</td>\n",
              "      <td>0</td>\n",
              "      <td>0</td>\n",
              "      <td>2021-01-13 16:59:52+00:00</td>\n",
              "      <td>dg2Ag3e8W-Q</td>\n",
              "      <td>0</td>\n",
              "      <td>I Opened A Restaurant That Pays You To Eat At It</td>\n",
              "      <td>2021-01-13</td>\n",
              "    </tr>\n",
              "    <tr>\n",
              "      <th>1</th>\n",
              "      <td>1</td>\n",
              "      <td>Relatable</td>\n",
              "      <td>UgxU3cNgqkyGMDAuXxJ4AaABAg</td>\n",
              "      <td>http://www.youtube.com/channel/UC8FTumc39Z00Vn...</td>\n",
              "      <td>Sagar Gwal</td>\n",
              "      <td>0</td>\n",
              "      <td>0</td>\n",
              "      <td>2021-01-13 16:59:46+00:00</td>\n",
              "      <td>LeYsRMZFUq0</td>\n",
              "      <td>0</td>\n",
              "      <td>I Gave People $1,000,000 But ONLY 1 Minute To ...</td>\n",
              "      <td>2021-01-13</td>\n",
              "    </tr>\n",
              "    <tr>\n",
              "      <th>2</th>\n",
              "      <td>2</td>\n",
              "      <td>How do you Gus love that crap</td>\n",
              "      <td>UgyUaDvKrt8ioZ7QTbh4AaABAg</td>\n",
              "      <td>http://www.youtube.com/channel/UCnF6pvaO6iYSnY...</td>\n",
              "      <td>Noah Rodriguez</td>\n",
              "      <td>0</td>\n",
              "      <td>0</td>\n",
              "      <td>2021-01-13 16:59:43+00:00</td>\n",
              "      <td>A-vX1AGBGsc</td>\n",
              "      <td>0</td>\n",
              "      <td>I Went Back To 1st Grade For A Day</td>\n",
              "      <td>2021-01-13</td>\n",
              "    </tr>\n",
              "    <tr>\n",
              "      <th>3</th>\n",
              "      <td>3</td>\n",
              "      <td>I wouldn’t be surprised if MrBeast became one ...</td>\n",
              "      <td>UgwBA9pqqOVRBKXl17B4AaABAg</td>\n",
              "      <td>http://www.youtube.com/channel/UCOQ-Z0f0gWPtGQ...</td>\n",
              "      <td>TheFlaaa</td>\n",
              "      <td>0</td>\n",
              "      <td>0</td>\n",
              "      <td>2021-01-13 16:59:43+00:00</td>\n",
              "      <td>5Fg9oZk-5uA</td>\n",
              "      <td>0</td>\n",
              "      <td>I Bought Everything In 5 Stores</td>\n",
              "      <td>2021-01-13</td>\n",
              "    </tr>\n",
              "    <tr>\n",
              "      <th>4</th>\n",
              "      <td>4</td>\n",
              "      <td>Chandler:eats a rose</td>\n",
              "      <td>UgxhD7F8V6WUiYXvA5F4AaABAg</td>\n",
              "      <td>http://www.youtube.com/channel/UCZocmKEhNiRotw...</td>\n",
              "      <td>Emilija Mikuckyte</td>\n",
              "      <td>0</td>\n",
              "      <td>0</td>\n",
              "      <td>2021-01-13 16:59:43+00:00</td>\n",
              "      <td>i6OUv48w1bk</td>\n",
              "      <td>0</td>\n",
              "      <td>Surprising My Girlfriend With 100,000 Roses Fo...</td>\n",
              "      <td>2021-01-13</td>\n",
              "    </tr>\n",
              "  </tbody>\n",
              "</table>\n",
              "</div>"
            ],
            "text/plain": [
              "   Unnamed: 0  ...   just_date\n",
              "0           0  ...  2021-01-13\n",
              "1           1  ...  2021-01-13\n",
              "2           2  ...  2021-01-13\n",
              "3           3  ...  2021-01-13\n",
              "4           4  ...  2021-01-13\n",
              "\n",
              "[5 rows x 12 columns]"
            ]
          },
          "metadata": {
            "tags": []
          },
          "execution_count": 13
        }
      ]
    },
    {
      "cell_type": "code",
      "metadata": {
        "id": "k3DqFKts_y6K"
      },
      "source": [
        "def removeNewline(comment):\r\n",
        "  return comment.str.replace(\"\\n\", \" \")"
      ],
      "execution_count": 14,
      "outputs": []
    },
    {
      "cell_type": "code",
      "metadata": {
        "id": "2CRuL1f83dQZ"
      },
      "source": [
        "comments['comment'] = removeNewline(comments['comment'])"
      ],
      "execution_count": 15,
      "outputs": []
    },
    {
      "cell_type": "code",
      "metadata": {
        "colab": {
          "base_uri": "https://localhost:8080/",
          "height": 602
        },
        "id": "dndbZ_A_3znO",
        "outputId": "93eead55-0ce0-4850-877c-3c38fc4f9269"
      },
      "source": [
        "comments.head()"
      ],
      "execution_count": 16,
      "outputs": [
        {
          "output_type": "execute_result",
          "data": {
            "text/html": [
              "<div>\n",
              "<style scoped>\n",
              "    .dataframe tbody tr th:only-of-type {\n",
              "        vertical-align: middle;\n",
              "    }\n",
              "\n",
              "    .dataframe tbody tr th {\n",
              "        vertical-align: top;\n",
              "    }\n",
              "\n",
              "    .dataframe thead th {\n",
              "        text-align: right;\n",
              "    }\n",
              "</style>\n",
              "<table border=\"1\" class=\"dataframe\">\n",
              "  <thead>\n",
              "    <tr style=\"text-align: right;\">\n",
              "      <th></th>\n",
              "      <th>Unnamed: 0</th>\n",
              "      <th>comment</th>\n",
              "      <th>comment_id</th>\n",
              "      <th>author_url</th>\n",
              "      <th>author_name</th>\n",
              "      <th>reply_count</th>\n",
              "      <th>like_count</th>\n",
              "      <th>date</th>\n",
              "      <th>vidid</th>\n",
              "      <th>total_reply_counts</th>\n",
              "      <th>vid_title</th>\n",
              "      <th>just_date</th>\n",
              "    </tr>\n",
              "  </thead>\n",
              "  <tbody>\n",
              "    <tr>\n",
              "      <th>0</th>\n",
              "      <td>0</td>\n",
              "      <td>\"I'm sorry, international fans\"  *Cries in Phi...</td>\n",
              "      <td>UgxTQx4UK1GxX8csGQN4AaABAg</td>\n",
              "      <td>http://www.youtube.com/channel/UCRvvUJye_0IPDE...</td>\n",
              "      <td>Allona Shanley Magpantay</td>\n",
              "      <td>0</td>\n",
              "      <td>0</td>\n",
              "      <td>2021-01-13 16:59:52+00:00</td>\n",
              "      <td>dg2Ag3e8W-Q</td>\n",
              "      <td>0</td>\n",
              "      <td>I Opened A Restaurant That Pays You To Eat At It</td>\n",
              "      <td>2021-01-13</td>\n",
              "    </tr>\n",
              "    <tr>\n",
              "      <th>1</th>\n",
              "      <td>1</td>\n",
              "      <td>Relatable</td>\n",
              "      <td>UgxU3cNgqkyGMDAuXxJ4AaABAg</td>\n",
              "      <td>http://www.youtube.com/channel/UC8FTumc39Z00Vn...</td>\n",
              "      <td>Sagar Gwal</td>\n",
              "      <td>0</td>\n",
              "      <td>0</td>\n",
              "      <td>2021-01-13 16:59:46+00:00</td>\n",
              "      <td>LeYsRMZFUq0</td>\n",
              "      <td>0</td>\n",
              "      <td>I Gave People $1,000,000 But ONLY 1 Minute To ...</td>\n",
              "      <td>2021-01-13</td>\n",
              "    </tr>\n",
              "    <tr>\n",
              "      <th>2</th>\n",
              "      <td>2</td>\n",
              "      <td>How do you Gus love that crap</td>\n",
              "      <td>UgyUaDvKrt8ioZ7QTbh4AaABAg</td>\n",
              "      <td>http://www.youtube.com/channel/UCnF6pvaO6iYSnY...</td>\n",
              "      <td>Noah Rodriguez</td>\n",
              "      <td>0</td>\n",
              "      <td>0</td>\n",
              "      <td>2021-01-13 16:59:43+00:00</td>\n",
              "      <td>A-vX1AGBGsc</td>\n",
              "      <td>0</td>\n",
              "      <td>I Went Back To 1st Grade For A Day</td>\n",
              "      <td>2021-01-13</td>\n",
              "    </tr>\n",
              "    <tr>\n",
              "      <th>3</th>\n",
              "      <td>3</td>\n",
              "      <td>I wouldn’t be surprised if MrBeast became one ...</td>\n",
              "      <td>UgwBA9pqqOVRBKXl17B4AaABAg</td>\n",
              "      <td>http://www.youtube.com/channel/UCOQ-Z0f0gWPtGQ...</td>\n",
              "      <td>TheFlaaa</td>\n",
              "      <td>0</td>\n",
              "      <td>0</td>\n",
              "      <td>2021-01-13 16:59:43+00:00</td>\n",
              "      <td>5Fg9oZk-5uA</td>\n",
              "      <td>0</td>\n",
              "      <td>I Bought Everything In 5 Stores</td>\n",
              "      <td>2021-01-13</td>\n",
              "    </tr>\n",
              "    <tr>\n",
              "      <th>4</th>\n",
              "      <td>4</td>\n",
              "      <td>Chandler:eats a rose</td>\n",
              "      <td>UgxhD7F8V6WUiYXvA5F4AaABAg</td>\n",
              "      <td>http://www.youtube.com/channel/UCZocmKEhNiRotw...</td>\n",
              "      <td>Emilija Mikuckyte</td>\n",
              "      <td>0</td>\n",
              "      <td>0</td>\n",
              "      <td>2021-01-13 16:59:43+00:00</td>\n",
              "      <td>i6OUv48w1bk</td>\n",
              "      <td>0</td>\n",
              "      <td>Surprising My Girlfriend With 100,000 Roses Fo...</td>\n",
              "      <td>2021-01-13</td>\n",
              "    </tr>\n",
              "  </tbody>\n",
              "</table>\n",
              "</div>"
            ],
            "text/plain": [
              "   Unnamed: 0  ...   just_date\n",
              "0           0  ...  2021-01-13\n",
              "1           1  ...  2021-01-13\n",
              "2           2  ...  2021-01-13\n",
              "3           3  ...  2021-01-13\n",
              "4           4  ...  2021-01-13\n",
              "\n",
              "[5 rows x 12 columns]"
            ]
          },
          "metadata": {
            "tags": []
          },
          "execution_count": 16
        }
      ]
    },
    {
      "cell_type": "markdown",
      "metadata": {
        "id": "3oNs39ng4OV3"
      },
      "source": [
        "#### Vader Sentiments"
      ]
    },
    {
      "cell_type": "markdown",
      "metadata": {
        "id": "VD6xa5N_JCP1"
      },
      "source": [
        "VADER (Valence Aware Dictionary for Sentiment Reasoning) is a model that is sensitive to both polarity and intensity of emotion. It relies on a dictionary that maps lexical feactures to emotion intensities as sentiment scores. The sum of the intensities of each word in text is the sentiment score. Here, I am using polarity classification since I only care if the text expresses a positive or negative opinion but not the degree of how positive or negative the text is. VADER can also tell something like \"did not love\" as negative when compared to just \"love.\""
      ]
    },
    {
      "cell_type": "code",
      "metadata": {
        "id": "y4DwnIAu4AkN"
      },
      "source": [
        "sentiment = SentimentIntensityAnalyzer()\r\n",
        "sentiment.polarity_scores(comments.comment[0])\r\n",
        "comments['vader_sentiment'] = comments.comment.apply(lambda x: sentiment.polarity_scores(x))\r\n",
        "comments['vader_neg_sentiment'] = comments.vader_sentiment.apply(lambda x: x['neg'])\r\n",
        "comments['vader_pos_sentiment'] = comments.vader_sentiment.apply(lambda x: x['pos'])\r\n",
        "comments['vader_neu_sentiment'] = comments.vader_sentiment.apply(lambda x: x['neu'])\r\n",
        "comments['vader_comp_sentiment'] = comments.vader_sentiment.apply(lambda x: x['compound'])"
      ],
      "execution_count": 21,
      "outputs": []
    },
    {
      "cell_type": "markdown",
      "metadata": {
        "id": "h3qRfs4bI1p0"
      },
      "source": [
        "Positive sentiment"
      ]
    },
    {
      "cell_type": "code",
      "metadata": {
        "colab": {
          "base_uri": "https://localhost:8080/",
          "height": 229
        },
        "id": "mkW-8SU7IFI1",
        "outputId": "f80e83dd-1875-458b-9502-482976c36a6b"
      },
      "source": [
        "comments.sort_values(by=['vader_comp_sentiment'], ascending=False)[['comment']].head()"
      ],
      "execution_count": 22,
      "outputs": [
        {
          "output_type": "execute_result",
          "data": {
            "text/html": [
              "<div>\n",
              "<style scoped>\n",
              "    .dataframe tbody tr th:only-of-type {\n",
              "        vertical-align: middle;\n",
              "    }\n",
              "\n",
              "    .dataframe tbody tr th {\n",
              "        vertical-align: top;\n",
              "    }\n",
              "\n",
              "    .dataframe thead th {\n",
              "        text-align: right;\n",
              "    }\n",
              "</style>\n",
              "<table border=\"1\" class=\"dataframe\">\n",
              "  <thead>\n",
              "    <tr style=\"text-align: right;\">\n",
              "      <th></th>\n",
              "      <th>comment</th>\n",
              "    </tr>\n",
              "  </thead>\n",
              "  <tbody>\n",
              "    <tr>\n",
              "      <th>5567</th>\n",
              "      <td>This made my day 😊😊😊😊😊😊😊😊😊☺️☺️☺️😊😊😊😊😊😊😊😊😊😊😊😊😊😊...</td>\n",
              "    </tr>\n",
              "    <tr>\n",
              "      <th>1325</th>\n",
              "      <td>When the guy go to the table and he jumped and...</td>\n",
              "    </tr>\n",
              "    <tr>\n",
              "      <th>4082</th>\n",
              "      <td>❤️❤️❤️😍😍😍😍😍😍😍😍😍😍😍😍😍😍😍😍😍😍😍😍😍😍😍😍😍😍❤️❤️❤️❤️❤️❤️❤️...</td>\n",
              "    </tr>\n",
              "    <tr>\n",
              "      <th>6797</th>\n",
              "      <td>Im from Philippines i hipe mr beast visit me h...</td>\n",
              "    </tr>\n",
              "    <tr>\n",
              "      <th>6555</th>\n",
              "      <td>😂😂😂😂😂😂😂😂😂😂😂😂😂😂😂😂😂😂😂😔😂😂😂😂😂</td>\n",
              "    </tr>\n",
              "  </tbody>\n",
              "</table>\n",
              "</div>"
            ],
            "text/plain": [
              "                                                comment\n",
              "5567  This made my day 😊😊😊😊😊😊😊😊😊☺️☺️☺️😊😊😊😊😊😊😊😊😊😊😊😊😊😊...\n",
              "1325  When the guy go to the table and he jumped and...\n",
              "4082  ❤️❤️❤️😍😍😍😍😍😍😍😍😍😍😍😍😍😍😍😍😍😍😍😍😍😍😍😍😍😍❤️❤️❤️❤️❤️❤️❤️...\n",
              "6797  Im from Philippines i hipe mr beast visit me h...\n",
              "6555                          😂😂😂😂😂😂😂😂😂😂😂😂😂😂😂😂😂😂😂😔😂😂😂😂😂"
            ]
          },
          "metadata": {
            "tags": []
          },
          "execution_count": 22
        }
      ]
    },
    {
      "cell_type": "markdown",
      "metadata": {
        "id": "wNjIog78Ph57"
      },
      "source": [
        "Neutral sentiment"
      ]
    },
    {
      "cell_type": "code",
      "metadata": {
        "colab": {
          "base_uri": "https://localhost:8080/",
          "height": 402
        },
        "id": "Ve7VLtUZPZxd",
        "outputId": "f31c8b4b-7ec1-4c5d-b223-a84ac5b70dee"
      },
      "source": [
        "vader_neutral = comments.query('vader_comp_sentiment == 0').rename(columns={\"comment\": \"vader_comment\"})[['vader_comment']].reset_index(drop=True)\r\n",
        "vader_neutral"
      ],
      "execution_count": 26,
      "outputs": [
        {
          "output_type": "execute_result",
          "data": {
            "text/html": [
              "<div>\n",
              "<style scoped>\n",
              "    .dataframe tbody tr th:only-of-type {\n",
              "        vertical-align: middle;\n",
              "    }\n",
              "\n",
              "    .dataframe tbody tr th {\n",
              "        vertical-align: top;\n",
              "    }\n",
              "\n",
              "    .dataframe thead th {\n",
              "        text-align: right;\n",
              "    }\n",
              "</style>\n",
              "<table border=\"1\" class=\"dataframe\">\n",
              "  <thead>\n",
              "    <tr style=\"text-align: right;\">\n",
              "      <th></th>\n",
              "      <th>vader_comment</th>\n",
              "    </tr>\n",
              "  </thead>\n",
              "  <tbody>\n",
              "    <tr>\n",
              "      <th>0</th>\n",
              "      <td>Relatable</td>\n",
              "    </tr>\n",
              "    <tr>\n",
              "      <th>1</th>\n",
              "      <td>Chandler:eats a rose</td>\n",
              "    </tr>\n",
              "    <tr>\n",
              "      <th>2</th>\n",
              "      <td>I SAW MR.BEAST GET TO 51 MILLION!</td>\n",
              "    </tr>\n",
              "    <tr>\n",
              "      <th>3</th>\n",
              "      <td>Buy a franchise</td>\n",
              "    </tr>\n",
              "    <tr>\n",
              "      <th>4</th>\n",
              "      <td>Iv heard people say you shouldnt donate to sal...</td>\n",
              "    </tr>\n",
              "    <tr>\n",
              "      <th>...</th>\n",
              "      <td>...</td>\n",
              "    </tr>\n",
              "    <tr>\n",
              "      <th>5279</th>\n",
              "      <td>Is it just me who was watching the football in...</td>\n",
              "    </tr>\n",
              "    <tr>\n",
              "      <th>5280</th>\n",
              "      <td>How do you have so much money</td>\n",
              "    </tr>\n",
              "    <tr>\n",
              "      <th>5281</th>\n",
              "      <td>Elise Stefanik</td>\n",
              "    </tr>\n",
              "    <tr>\n",
              "      <th>5282</th>\n",
              "      <td>Ryan did the spoon flip</td>\n",
              "    </tr>\n",
              "    <tr>\n",
              "      <th>5283</th>\n",
              "      <td>Chan Chan's Dog</td>\n",
              "    </tr>\n",
              "  </tbody>\n",
              "</table>\n",
              "<p>5284 rows × 1 columns</p>\n",
              "</div>"
            ],
            "text/plain": [
              "                                          vader_comment\n",
              "0                                             Relatable\n",
              "1                                  Chandler:eats a rose\n",
              "2                     I SAW MR.BEAST GET TO 51 MILLION!\n",
              "3                                       Buy a franchise\n",
              "4     Iv heard people say you shouldnt donate to sal...\n",
              "...                                                 ...\n",
              "5279  Is it just me who was watching the football in...\n",
              "5280                      How do you have so much money\n",
              "5281                                     Elise Stefanik\n",
              "5282                            Ryan did the spoon flip\n",
              "5283                                    Chan Chan's Dog\n",
              "\n",
              "[5284 rows x 1 columns]"
            ]
          },
          "metadata": {
            "tags": []
          },
          "execution_count": 26
        }
      ]
    },
    {
      "cell_type": "markdown",
      "metadata": {
        "id": "i3-1MKDEI5O9"
      },
      "source": [
        "Negative sentiment"
      ]
    },
    {
      "cell_type": "code",
      "metadata": {
        "colab": {
          "base_uri": "https://localhost:8080/",
          "height": 195
        },
        "id": "z7MT-sarIC-W",
        "outputId": "b674daad-28b6-4d26-97ef-c024097d8e14"
      },
      "source": [
        "comments.sort_values(by=['vader_comp_sentiment'], ascending=True)[['comment']].head()"
      ],
      "execution_count": 20,
      "outputs": [
        {
          "output_type": "execute_result",
          "data": {
            "text/html": [
              "<div>\n",
              "<style scoped>\n",
              "    .dataframe tbody tr th:only-of-type {\n",
              "        vertical-align: middle;\n",
              "    }\n",
              "\n",
              "    .dataframe tbody tr th {\n",
              "        vertical-align: top;\n",
              "    }\n",
              "\n",
              "    .dataframe thead th {\n",
              "        text-align: right;\n",
              "    }\n",
              "</style>\n",
              "<table border=\"1\" class=\"dataframe\">\n",
              "  <thead>\n",
              "    <tr style=\"text-align: right;\">\n",
              "      <th></th>\n",
              "      <th>comment</th>\n",
              "    </tr>\n",
              "  </thead>\n",
              "  <tbody>\n",
              "    <tr>\n",
              "      <th>8743</th>\n",
              "      <td>😥😥😥😥😥😥😢😢😢😢😢😢😢😢😢😢😢😱😱😱</td>\n",
              "    </tr>\n",
              "    <tr>\n",
              "      <th>3022</th>\n",
              "      <td>PEWDIEDIE AAAAAAAAH 💥💥💥💥💥💥💥💥💥💥💥💥💥💥💥💥💥💥💥💥!!!!!!...</td>\n",
              "    </tr>\n",
              "    <tr>\n",
              "      <th>8511</th>\n",
              "      <td>So sad for chandler 😭😭😭😭😭😭😭😭</td>\n",
              "    </tr>\n",
              "    <tr>\n",
              "      <th>5617</th>\n",
              "      <td>My reaction: *H* 😄😥😫😓🤤😝😤😞😖😲🤑😵🥴🤯😨😭😱🥺     *Fricc...</td>\n",
              "    </tr>\n",
              "    <tr>\n",
              "      <th>2493</th>\n",
              "      <td>I feel so bad for chandler 😢😢😢😢😢😢</td>\n",
              "    </tr>\n",
              "  </tbody>\n",
              "</table>\n",
              "</div>"
            ],
            "text/plain": [
              "                                                comment\n",
              "8743                               😥😥😥😥😥😥😢😢😢😢😢😢😢😢😢😢😢😱😱😱\n",
              "3022  PEWDIEDIE AAAAAAAAH 💥💥💥💥💥💥💥💥💥💥💥💥💥💥💥💥💥💥💥💥!!!!!!...\n",
              "8511                       So sad for chandler 😭😭😭😭😭😭😭😭\n",
              "5617  My reaction: *H* 😄😥😫😓🤤😝😤😞😖😲🤑😵🥴🤯😨😭😱🥺     *Fricc...\n",
              "2493                  I feel so bad for chandler 😢😢😢😢😢😢"
            ]
          },
          "metadata": {
            "tags": []
          },
          "execution_count": 20
        }
      ]
    },
    {
      "cell_type": "markdown",
      "metadata": {
        "id": "OImVQ2ioI0da"
      },
      "source": [
        "This is more like pity... Let's try something else."
      ]
    },
    {
      "cell_type": "markdown",
      "metadata": {
        "id": "YKMq5YM054sr"
      },
      "source": [
        "#### Textblob Sentiments"
      ]
    },
    {
      "cell_type": "markdown",
      "metadata": {
        "id": "pu6YpKb0N9_t"
      },
      "source": [
        ""
      ]
    },
    {
      "cell_type": "code",
      "metadata": {
        "id": "Tmlywx3557RN"
      },
      "source": [
        "comments['textblob_polarity'] = comments['comment'].map(lambda text: TextBlob(text).sentiment.polarity)\r\n",
        "comments['comment_len'] = comments['comment'].astype(str).apply(len)\r\n",
        "comments['word_count'] = comments['comment'].apply(lambda x: len(str(x).split()))"
      ],
      "execution_count": 23,
      "outputs": []
    },
    {
      "cell_type": "markdown",
      "metadata": {
        "id": "OxF3L4qxPtTh"
      },
      "source": [
        "Positive sentiment"
      ]
    },
    {
      "cell_type": "code",
      "metadata": {
        "colab": {
          "base_uri": "https://localhost:8080/",
          "height": 195
        },
        "id": "8NTlQ4JvN9vL",
        "outputId": "b3535525-ed55-4f84-84bc-4649de738d0e"
      },
      "source": [
        "comments.sort_values(by=['textblob_polarity'], ascending=False)[['comment', 'textblob_polarity']].head()"
      ],
      "execution_count": 24,
      "outputs": [
        {
          "output_type": "execute_result",
          "data": {
            "text/html": [
              "<div>\n",
              "<style scoped>\n",
              "    .dataframe tbody tr th:only-of-type {\n",
              "        vertical-align: middle;\n",
              "    }\n",
              "\n",
              "    .dataframe tbody tr th {\n",
              "        vertical-align: top;\n",
              "    }\n",
              "\n",
              "    .dataframe thead th {\n",
              "        text-align: right;\n",
              "    }\n",
              "</style>\n",
              "<table border=\"1\" class=\"dataframe\">\n",
              "  <thead>\n",
              "    <tr style=\"text-align: right;\">\n",
              "      <th></th>\n",
              "      <th>comment</th>\n",
              "      <th>textblob_polarity</th>\n",
              "    </tr>\n",
              "  </thead>\n",
              "  <tbody>\n",
              "    <tr>\n",
              "      <th>8705</th>\n",
              "      <td>Teacher: THE BEST JOB IN TH WORLD IS WHAT?  ST...</td>\n",
              "      <td>1.0</td>\n",
              "    </tr>\n",
              "    <tr>\n",
              "      <th>6961</th>\n",
              "      <td>4:05 he says microwaves are the best but look ...</td>\n",
              "      <td>1.0</td>\n",
              "    </tr>\n",
              "    <tr>\n",
              "      <th>2835</th>\n",
              "      <td>Best channel ever</td>\n",
              "      <td>1.0</td>\n",
              "    </tr>\n",
              "    <tr>\n",
              "      <th>3163</th>\n",
              "      <td>You have a lot of fans from Croatia &lt;3</td>\n",
              "      <td>1.0</td>\n",
              "    </tr>\n",
              "    <tr>\n",
              "      <th>4336</th>\n",
              "      <td>Help me. Please donate me some money. Perfect ...</td>\n",
              "      <td>1.0</td>\n",
              "    </tr>\n",
              "  </tbody>\n",
              "</table>\n",
              "</div>"
            ],
            "text/plain": [
              "                                                comment  textblob_polarity\n",
              "8705  Teacher: THE BEST JOB IN TH WORLD IS WHAT?  ST...                1.0\n",
              "6961  4:05 he says microwaves are the best but look ...                1.0\n",
              "2835                                  Best channel ever                1.0\n",
              "3163             You have a lot of fans from Croatia <3                1.0\n",
              "4336  Help me. Please donate me some money. Perfect ...                1.0"
            ]
          },
          "metadata": {
            "tags": []
          },
          "execution_count": 24
        }
      ]
    },
    {
      "cell_type": "markdown",
      "metadata": {
        "id": "9NnmXzQZPphN"
      },
      "source": [
        "Neutral sentiment"
      ]
    },
    {
      "cell_type": "code",
      "metadata": {
        "colab": {
          "base_uri": "https://localhost:8080/",
          "height": 402
        },
        "id": "-3UWCbpVP0jq",
        "outputId": "1e37a418-ebef-4abd-e0a1-bf561834b79a"
      },
      "source": [
        "textblob_neutral = comments.query('textblob_polarity == 0').rename(columns={\"comment\": \"textblob_comment\"})[['textblob_comment']].reset_index(drop=True)\r\n",
        "textblob_neutral"
      ],
      "execution_count": 28,
      "outputs": [
        {
          "output_type": "execute_result",
          "data": {
            "text/html": [
              "<div>\n",
              "<style scoped>\n",
              "    .dataframe tbody tr th:only-of-type {\n",
              "        vertical-align: middle;\n",
              "    }\n",
              "\n",
              "    .dataframe tbody tr th {\n",
              "        vertical-align: top;\n",
              "    }\n",
              "\n",
              "    .dataframe thead th {\n",
              "        text-align: right;\n",
              "    }\n",
              "</style>\n",
              "<table border=\"1\" class=\"dataframe\">\n",
              "  <thead>\n",
              "    <tr style=\"text-align: right;\">\n",
              "      <th></th>\n",
              "      <th>textblob_comment</th>\n",
              "    </tr>\n",
              "  </thead>\n",
              "  <tbody>\n",
              "    <tr>\n",
              "      <th>0</th>\n",
              "      <td>Relatable</td>\n",
              "    </tr>\n",
              "    <tr>\n",
              "      <th>1</th>\n",
              "      <td>I SAW MR.BEAST GET TO 51 MILLION!</td>\n",
              "    </tr>\n",
              "    <tr>\n",
              "      <th>2</th>\n",
              "      <td>Buy a franchise</td>\n",
              "    </tr>\n",
              "    <tr>\n",
              "      <th>3</th>\n",
              "      <td>Iv heard people say you shouldnt donate to sal...</td>\n",
              "    </tr>\n",
              "    <tr>\n",
              "      <th>4</th>\n",
              "      <td>*what if he goes bankrupt*</td>\n",
              "    </tr>\n",
              "    <tr>\n",
              "      <th>...</th>\n",
              "      <td>...</td>\n",
              "    </tr>\n",
              "    <tr>\n",
              "      <th>6770</th>\n",
              "      <td>Elise Stefanik</td>\n",
              "    </tr>\n",
              "    <tr>\n",
              "      <th>6771</th>\n",
              "      <td>Ryan did the spoon flip</td>\n",
              "    </tr>\n",
              "    <tr>\n",
              "      <th>6772</th>\n",
              "      <td>why am i just now seeing this on my recommended</td>\n",
              "    </tr>\n",
              "    <tr>\n",
              "      <th>6773</th>\n",
              "      <td>Chan Chan's Dog</td>\n",
              "    </tr>\n",
              "    <tr>\n",
              "      <th>6774</th>\n",
              "      <td>Food banks   Am I a joke to you</td>\n",
              "    </tr>\n",
              "  </tbody>\n",
              "</table>\n",
              "<p>6775 rows × 1 columns</p>\n",
              "</div>"
            ],
            "text/plain": [
              "                                       textblob_comment\n",
              "0                                             Relatable\n",
              "1                     I SAW MR.BEAST GET TO 51 MILLION!\n",
              "2                                       Buy a franchise\n",
              "3     Iv heard people say you shouldnt donate to sal...\n",
              "4                            *what if he goes bankrupt*\n",
              "...                                                 ...\n",
              "6770                                     Elise Stefanik\n",
              "6771                            Ryan did the spoon flip\n",
              "6772    why am i just now seeing this on my recommended\n",
              "6773                                    Chan Chan's Dog\n",
              "6774                    Food banks   Am I a joke to you\n",
              "\n",
              "[6775 rows x 1 columns]"
            ]
          },
          "metadata": {
            "tags": []
          },
          "execution_count": 28
        }
      ]
    },
    {
      "cell_type": "markdown",
      "metadata": {
        "id": "Q0hG2LcrPv6F"
      },
      "source": [
        "Negative sentiment"
      ]
    },
    {
      "cell_type": "code",
      "metadata": {
        "colab": {
          "base_uri": "https://localhost:8080/",
          "height": 195
        },
        "id": "Voy3hvy7OC1_",
        "outputId": "25d2eb53-e27e-433e-eaa5-cf204f944b27"
      },
      "source": [
        "comments.sort_values(by=['textblob_polarity'], ascending=True)[['comment', 'textblob_polarity']].head()"
      ],
      "execution_count": 25,
      "outputs": [
        {
          "output_type": "execute_result",
          "data": {
            "text/html": [
              "<div>\n",
              "<style scoped>\n",
              "    .dataframe tbody tr th:only-of-type {\n",
              "        vertical-align: middle;\n",
              "    }\n",
              "\n",
              "    .dataframe tbody tr th {\n",
              "        vertical-align: top;\n",
              "    }\n",
              "\n",
              "    .dataframe thead th {\n",
              "        text-align: right;\n",
              "    }\n",
              "</style>\n",
              "<table border=\"1\" class=\"dataframe\">\n",
              "  <thead>\n",
              "    <tr style=\"text-align: right;\">\n",
              "      <th></th>\n",
              "      <th>comment</th>\n",
              "      <th>textblob_polarity</th>\n",
              "    </tr>\n",
              "  </thead>\n",
              "  <tbody>\n",
              "    <tr>\n",
              "      <th>6674</th>\n",
              "      <td>this is insane aaa</td>\n",
              "      <td>-1.0</td>\n",
              "    </tr>\n",
              "    <tr>\n",
              "      <th>6869</th>\n",
              "      <td>How dare you guys use lightning McQueens cars ...</td>\n",
              "      <td>-1.0</td>\n",
              "    </tr>\n",
              "    <tr>\n",
              "      <th>6858</th>\n",
              "      <td>im getting insane watching</td>\n",
              "      <td>-1.0</td>\n",
              "    </tr>\n",
              "    <tr>\n",
              "      <th>1074</th>\n",
              "      <td>Thats insane man, he now has cameramans. Becau...</td>\n",
              "      <td>-1.0</td>\n",
              "    </tr>\n",
              "    <tr>\n",
              "      <th>3905</th>\n",
              "      <td>Its terrifying</td>\n",
              "      <td>-1.0</td>\n",
              "    </tr>\n",
              "  </tbody>\n",
              "</table>\n",
              "</div>"
            ],
            "text/plain": [
              "                                                comment  textblob_polarity\n",
              "6674                                 this is insane aaa               -1.0\n",
              "6869  How dare you guys use lightning McQueens cars ...               -1.0\n",
              "6858                         im getting insane watching               -1.0\n",
              "1074  Thats insane man, he now has cameramans. Becau...               -1.0\n",
              "3905                                     Its terrifying               -1.0"
            ]
          },
          "metadata": {
            "tags": []
          },
          "execution_count": 25
        }
      ]
    },
    {
      "cell_type": "code",
      "metadata": {
        "id": "VtwpuTHIPJbk"
      },
      "source": [
        ""
      ],
      "execution_count": null,
      "outputs": []
    }
  ]
}